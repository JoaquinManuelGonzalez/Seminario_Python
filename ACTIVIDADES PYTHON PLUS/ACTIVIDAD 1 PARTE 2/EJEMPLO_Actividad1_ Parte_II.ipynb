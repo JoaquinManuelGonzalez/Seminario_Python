{
 "cells": [
  {
   "cell_type": "markdown",
   "id": "14df4a10",
   "metadata": {},
   "source": [
    "# Actividad 1 por Python plus - Parte II\n",
    "\n",
    "- Sobre el ejercicio asignado:\n",
    "    - [Evaluación del trabajo asignado](#parte1.1)\n",
    "    - [Análisis del ejercicio asignado](#parte1.2)\n",
    "- Sobre este trabajo:\n",
    "    - [Corrección de la evaluación realizada](#parte2.1)\n",
    "    - [Solución alternativa](#parte2.2)\n",
    "    - [Uso de ChatGPT](#parte2.3)"
   ]
  },
  {
   "cell_type": "markdown",
   "id": "eb80dfd8",
   "metadata": {},
   "source": [
    "## Evaluación del trabajo asignado <a name=\"parte1.1\"></a>"
   ]
  },
  {
   "cell_type": "markdown",
   "id": "805c4f24",
   "metadata": {},
   "source": [
    "### Solución propuesta por tu compañero/a"
   ]
  },
  {
   "attachments": {},
   "cell_type": "markdown",
   "id": "b2c22533",
   "metadata": {},
   "source": [
    "### -- **EJERCICIO 6:** dado el archivo denominado [log_catedras](https://archivos.linti.unlp.edu.ar/index.php/s/ofgZh41dUYMYX6H) que contiene  el registro de  accesos al entorno catedras.linti, se desea:\n",
    "1. Generar una función que retorne qué usuarios registran accesos el día 2 de abril y en qué horarios lo hicieron. Esta función recibe un parámetro opcional que indica si se incluyen todos los accesos en ese día o sólo el primero.  Por defecto la función solo incluye el horario del primer acceso. \n",
    "2. Escribir un programa que, utilizando la función anterior, muestre un listado similar al siguiente:\n",
    " \n",
    "```\n",
    "----------------------------\n",
    "Usuario en el sistema   Hora\n",
    "----------------------------\n",
    "Butterfree         08:41:47\n",
    "Pikachu            08:41:47\n",
    "Oddish             08:41:47\n",
    "Kingler            08:41:47\n",
    "Tauros             08:41:47\n",
    "```--\n",
    "\n",
    "Incluí también la URL del cuaderno asignado\n",
    "\n",
    "\n",
    "**URL:** https://drive.google.com/file/d/1K3sM_HaKdTecLU18XGH4q9IRa91xDkAX/view?usp=share_link\n",
    "\n"
   ]
  },
  {
   "cell_type": "code",
   "execution_count": 5,
   "id": "05249b25",
   "metadata": {},
   "outputs": [
    {
     "name": "stdout",
     "output_type": "stream",
     "text": [
      "------------------------------\n",
      "Usuario afectado          Hora\n",
      "------------------------------\n",
      "Pidgeotto             23:37:34\n",
      "Fearow                23:37:34\n",
      "Fearow                23:37:23\n",
      "Fearow                23:37:23\n",
      "Pidgeotto             23:33:51\n",
      "Fearow                23:27:08\n",
      "Fearow                23:27:03\n",
      "Fearow                23:18:44\n",
      "Fearow                23:18:39\n",
      "Raticate              22:25:50\n",
      "Omastar               21:32:33\n",
      "Voltorb               21:12:18\n",
      "Voltorb               21:12:06\n",
      "Voltorb               21:12:06\n",
      "Voltorb               21:12:02\n",
      "Rhyhorn               21:07:09\n",
      "Rhyhorn               21:06:52\n",
      "Rhyhorn               21:06:52\n",
      "Omastar               21:00:29\n",
      "Omastar               20:59:46\n",
      "Omastar               20:59:44\n",
      "Omastar               20:59:42\n",
      "Omastar               20:59:20\n",
      "Omastar               20:58:52\n",
      "Geodude               20:45:53\n",
      "Geodude               20:45:53\n",
      "Geodude               20:45:50\n",
      "Kadabra               19:52:57\n",
      "Kadabra               19:52:40\n",
      "Kadabra               19:52:40\n",
      "Kadabra               19:52:39\n",
      "Kadabra               19:52:39\n",
      "Kadabra               19:52:14\n",
      "Kadabra               19:52:10\n",
      "Kadabra               19:51:41\n",
      "Kadabra               19:51:41\n",
      "Ponyta                19:25:42\n",
      "Kadabra               19:21:39\n",
      "Kadabra               19:16:01\n",
      "Bellsprout            19:13:11\n",
      "Ditto                 19:10:47\n",
      "Ditto                 19:10:41\n",
      "Ditto                 19:10:38\n",
      "Ditto                 19:10:32\n",
      "Ditto                 19:10:27\n",
      "Geodude               19:03:01\n",
      "Geodude               19:03:00\n",
      "Geodude               19:02:56\n",
      "Geodude               19:02:48\n",
      "Geodude               19:02:47\n",
      "Geodude               19:02:39\n",
      "Geodude               19:02:39\n",
      "Geodude               19:02:28\n",
      "Geodude               19:02:23\n",
      "Geodude               19:02:19\n",
      "Geodude               19:02:00\n",
      "Geodude               19:01:56\n",
      "Geodude               19:01:54\n",
      "Geodude               18:58:47\n",
      "Geodude               18:58:36\n",
      "Geodude               18:58:10\n",
      "Geodude               18:58:01\n",
      "Geodude               18:57:57\n",
      "Geodude               18:57:33\n",
      "Geodude               18:57:31\n",
      "Geodude               18:57:28\n",
      "Geodude               18:57:20\n",
      "Geodude               18:57:13\n",
      "Geodude               18:57:03\n",
      "Geodude               18:57:03\n",
      "Geodude               18:57:01\n",
      "Geodude               18:57:01\n",
      "Geodude               18:56:58\n",
      "Ponyta                18:49:29\n",
      "Ponyta                18:49:29\n",
      "Ponyta                18:49:22\n",
      "Omastar               18:42:02\n",
      "Rhyhorn               18:33:15\n",
      "Rhyhorn               18:33:11\n",
      "Rhyhorn               18:33:06\n",
      "Rhyhorn               18:33:03\n",
      "Omastar               18:08:59\n",
      "Kingler               17:42:16\n",
      "Rhyhorn               17:37:09\n",
      "Rhyhorn               17:37:06\n",
      "Mr. Mime              17:33:50\n",
      "Mr. Mime              17:33:50\n",
      "Machamp               17:29:41\n",
      "Machamp               17:29:40\n",
      "Machamp               17:29:38\n",
      "Machamp               17:29:33\n",
      "Machamp               17:29:31\n",
      "Machamp               17:29:23\n",
      "Machamp               17:29:16\n",
      "Machamp               17:29:11\n",
      "Mr. Mime              17:26:28\n",
      "Mr. Mime              17:26:28\n",
      "Rhyhorn               17:17:43\n",
      "Rhyhorn               17:17:35\n",
      "Rhyhorn               17:14:47\n",
      "Mr. Mime              17:14:41\n",
      "Mr. Mime              17:14:41\n",
      "Pidgeotto             17:09:11\n",
      "Pidgeotto             17:09:08\n",
      "Lickitung             17:07:24\n",
      "Lickitung             17:07:24\n",
      "Lickitung             17:06:57\n",
      "Geodude               17:00:27\n",
      "Geodude               17:00:23\n",
      "Geodude               17:00:02\n",
      "Geodude               16:59:56\n",
      "Geodude               16:59:55\n",
      "Geodude               16:58:24\n",
      "Geodude               16:58:24\n",
      "Geodude               16:58:20\n",
      "Geodude               16:58:14\n",
      "Geodude               16:58:14\n",
      "Geodude               16:58:09\n",
      "Nidoking              16:52:16\n",
      "Nidoking              16:52:16\n",
      "Nidoking              16:52:10\n",
      "Rhyhorn               16:39:22\n",
      "Rhyhorn               16:39:22\n",
      "Rhyhorn               16:39:18\n",
      "Rhyhorn               16:39:15\n",
      "Rhyhorn               16:39:15\n",
      "Rhyhorn               16:39:05\n",
      "Scyther               16:34:00\n",
      "Scyther               16:33:53\n",
      "Scyther               16:33:44\n",
      "Scyther               16:33:12\n",
      "Scyther               16:33:09\n",
      "Scyther               16:33:06\n",
      "Kingler               16:13:17\n",
      "Kingler               16:13:17\n",
      "Kingler               16:13:08\n",
      "Bellsprout            15:56:07\n",
      "Bellsprout            15:55:59\n",
      "Bellsprout            15:55:59\n",
      "Bellsprout            15:51:33\n",
      "Bellsprout            15:51:25\n",
      "Bellsprout            15:51:18\n",
      "Dugtrio               15:48:39\n",
      "Dugtrio               15:48:06\n",
      "Dugtrio               15:48:02\n",
      "Mr. Mime              15:10:46\n",
      "Mr. Mime              15:10:46\n",
      "Mr. Mime              15:05:51\n",
      "Mr. Mime              15:05:51\n",
      "Hitmonlee             14:52:01\n",
      "Hitmonlee             14:52:01\n",
      "Hitmonlee             14:51:53\n",
      "Hitmonlee             14:51:53\n",
      "Hitmonlee             14:51:50\n",
      "Carbink               14:39:13\n",
      "Mr. Mime              14:08:48\n",
      "Mr. Mime              14:08:48\n",
      "Lickitung             14:01:21\n",
      "Lickitung             14:01:20\n",
      "Lickitung             14:01:15\n",
      "Machoke               13:35:29\n",
      "Machoke               13:35:07\n",
      "Machoke               13:35:07\n",
      "Machoke               13:35:00\n",
      "Machoke               13:06:43\n",
      "Machoke               13:06:17\n",
      "Mr. Mime              12:57:34\n",
      "Ponyta                12:43:27\n",
      "Poliwag               12:09:28\n",
      "Poliwag               12:09:14\n",
      "Ponyta                11:42:15\n",
      "Ponyta                11:40:02\n",
      "Poliwag               11:12:27\n",
      "Poliwag               11:12:27\n",
      "Poliwag               11:12:13\n",
      "Poliwag               11:11:55\n",
      "Ponyta                11:04:37\n",
      "Ponyta                11:04:03\n",
      "Ponyta                11:03:54\n",
      "Ponyta                11:01:57\n",
      "Ponyta                10:58:02\n",
      "Rattata               10:34:37\n",
      "Rattata               10:34:27\n",
      "Growlithe             10:23:59\n",
      "Growlithe             10:23:59\n",
      "Growlithe             10:23:53\n",
      "Rattata               10:01:17\n",
      "Rattata               10:01:11\n",
      "Rattata               10:01:04\n",
      "Rattata               10:01:03\n",
      "Rattata               10:00:54\n",
      "Clefable              08:15:21\n",
      "Clefable              08:15:06\n",
      "Oddish                04:14:46\n",
      "Oddish                04:14:45\n",
      "Oddish                04:14:40\n"
     ]
    }
   ],
   "source": [
    "# SOLUCION:\n",
    "import csv\n",
    "\n",
    "with open('log_catedras.csv',encoding='utf-8') as arch:  #Se mezcla el codigo del programa principal con la definicion de una funcion\n",
    "    csv_reader = csv.reader(arch, delimiter=',')\n",
    "    encabezado, data = next(csv_reader), list(csv_reader)\n",
    "\n",
    "def funcion(pasar=None):  #La funcion accede a variables que no estan dentro de su Scope, por ejm la variable \"data\" y el nombre de la misma no es claro\n",
    "    usuarios = []  #No presenta docstring en la funcion a realizar\n",
    "    dia = \"2/04\"\n",
    "    \n",
    "    if (pasar == None):\n",
    "      usuarios_ya_agregados = [] \n",
    "      for user in data:\n",
    "        if (user[0].startswith(dia)):\n",
    "          if user[1] not in usuarios_ya_agregados: \n",
    "            usuarios.append(user)\n",
    "            usuarios_ya_agregados.append(user[1]) \n",
    "\n",
    "    elif (pasar == \"Todos\"):\n",
    "      for user in data:\n",
    "        if (user[0].startswith(dia)):\n",
    "          usuarios.append(user)\n",
    "    return usuarios\n",
    "\n",
    "\n",
    "lista = funcion()\n",
    "#lista = funcion(\"Todos\")  #No da opcion a elegir como se quiere imprimir el listado de alumnos\n",
    "\n",
    "print(\"-\" * 30)\n",
    "print(f\"{encabezado[2]:<24}  {encabezado[0]}\")\n",
    "print(\"-\" * 30)\n",
    "\n",
    "for users in lista:\n",
    "  hora= users[0].split(',')[1]\n",
    "  print(f\"{users[1]:<20} {hora}\")\n",
    "\n"
   ]
  },
  {
   "cell_type": "markdown",
   "id": "1eae6299",
   "metadata": {},
   "source": [
    "## Análisis del ejercicio asignado <a name=\"parte1.2\"></a>"
   ]
  },
  {
   "cell_type": "markdown",
   "id": "4e9717da",
   "metadata": {},
   "source": [
    "### Calificá de acuerdo a las siguientes pautas:"
   ]
  },
  {
   "cell_type": "code",
   "execution_count": 6,
   "id": "2762a6c2",
   "metadata": {
    "scrolled": true
   },
   "outputs": [],
   "source": [
    "# Puntos acumulados del trabajo de mi conpañero/a\n",
    "puntos_parte_I = 0"
   ]
  },
  {
   "cell_type": "markdown",
   "id": "fb152d91",
   "metadata": {},
   "source": [
    "1.- **¿El algoritmo para el procesamiento de datos en el archivo es correcto?¿Resuelve la consulta planteada?:** +10 puntos\n",
    "\n",
    "- Sumá 10 puntos si el código es correcto, inpendientemente si sigue con todas las indicaciones como lo pide el enunciado.\n"
   ]
  },
  {
   "cell_type": "code",
   "execution_count": 7,
   "id": "00a9cdca",
   "metadata": {
    "scrolled": true
   },
   "outputs": [],
   "source": [
    "# puntos a sumar de esta consigna:\n",
    "puntos_parte_I += 10"
   ]
  },
  {
   "cell_type": "markdown",
   "id": "43ba367c",
   "metadata": {},
   "source": [
    "2.-**¿Define la función de acuerdo a lo pedido? (respecto a la definición de parámetros, y valores retornados)**: +5 puntos\n",
    "\n",
    "- Sumá 2.5 puntos: si lo hace pero presenta algún error (indicá cuál es el error).\n",
    "\n",
    "- Sumá 5 puntos: si está correcto"
   ]
  },
  {
   "cell_type": "code",
   "execution_count": 8,
   "id": "590a4742",
   "metadata": {
    "scrolled": true
   },
   "outputs": [],
   "source": [
    "# puntos a sumar de esta consigna:\n",
    "puntos_parte_I += 5"
   ]
  },
  {
   "cell_type": "markdown",
   "id": "577b576a",
   "metadata": {},
   "source": [
    "3.-**¿Genera el listado de acuerdo a lo pedido?¿Respeta el formato propuesto?**: +5 puntos\n",
    "\n",
    "- Sumá 2.5 puntos: si lo hace pero presenta algún error (indicá cuál es el error).\n",
    "\n",
    "- Sumá 5 puntos: si está correcto"
   ]
  },
  {
   "cell_type": "code",
   "execution_count": 9,
   "id": "e3963e5d",
   "metadata": {
    "scrolled": true
   },
   "outputs": [],
   "source": [
    "# puntos a sumar de esta consigna:\n",
    "puntos_parte_I += 5"
   ]
  },
  {
   "cell_type": "markdown",
   "id": "e619052f",
   "metadata": {},
   "source": [
    "4- **Sobre el acceso al archivo de datos:** -10  a 5 puntos\n",
    "\n",
    "- Descontá 5 puntos si lo abre utilizando una ruta absoluta (ejemplo: /home/archivo/archivo.csv).\n",
    "- Descontá 5 puntos si no se cierra el archivo.\n",
    "- Sumá 5 puntos si usa la sentencia with y lo hace en forma correcta.\n",
    "- Sumá 5 puntos si abre correctamente el archivo (sin with) y lo cierra."
   ]
  },
  {
   "cell_type": "code",
   "execution_count": 10,
   "id": "b55c9896",
   "metadata": {
    "scrolled": true
   },
   "outputs": [],
   "source": [
    "# puntos a sumar de esta consigna:\n",
    "puntos_parte_I += 5"
   ]
  },
  {
   "attachments": {},
   "cell_type": "markdown",
   "id": "1670ee4b",
   "metadata": {},
   "source": [
    "5.- **Alguna otra falla o detalles que quieras marcar?**: - 5 puntos\n",
    "\n",
    "- Especificá cuál es el error que encontrás: Se mezcla el codigo del programa principal con la definicion de una funcion. \n",
    "No da opcion a elegir como se quiere imprimir el listado de alumnos. No presenta docstring en la funcion a realizar. La funcion accede a variables que no estan dentro de su Scope, por ejm la variable \"data\" y el nombre de la misma no es claro."
   ]
  },
  {
   "cell_type": "code",
   "execution_count": 11,
   "id": "1e985faa",
   "metadata": {
    "scrolled": true
   },
   "outputs": [],
   "source": [
    "# puntos a descontar de esta consigna:\n",
    "puntos_parte_I -= 5"
   ]
  },
  {
   "cell_type": "markdown",
   "id": "50b1c6fc",
   "metadata": {},
   "source": [
    "### Total de puntos de la actividad (parte I) del trabajo asignado:"
   ]
  },
  {
   "cell_type": "code",
   "execution_count": 12,
   "id": "afbe1851",
   "metadata": {
    "scrolled": true
   },
   "outputs": [
    {
     "name": "stdout",
     "output_type": "stream",
     "text": [
      "Puntos actividad 1 - Parte I: 20\n"
     ]
    }
   ],
   "source": [
    "print(f\"Puntos actividad 1 - Parte I: {puntos_parte_I if puntos_parte_I >0 else 0}\")"
   ]
  },
  {
   "cell_type": "markdown",
   "id": "34aa40a5",
   "metadata": {},
   "source": [
    "### ¿Algo más que no fue considerado?"
   ]
  },
  {
   "attachments": {},
   "cell_type": "markdown",
   "id": "1e1f3415",
   "metadata": {},
   "source": [
    "--- En la solucion de mi compañero/a creo que lo que se me hizo mas dificil de realizar a la hora de corregir es la legibilidad y organizacion del codigo, asi que por eso creo que ese aspecto deberia de ser considerado ---"
   ]
  },
  {
   "cell_type": "markdown",
   "id": "dc26afe2",
   "metadata": {},
   "source": [
    "## Corrección de la evaluación realizada - Total 20 puntos <a name=\"parte2.1\"></a>"
   ]
  },
  {
   "cell_type": "code",
   "execution_count": 8,
   "id": "a397db33",
   "metadata": {
    "scrolled": true
   },
   "outputs": [],
   "source": [
    "# Puntos acumulados de mi parte II    - A COMPLETAR POR LA CATEDRA -\n",
    "puntos_parte_II = 0"
   ]
  },
  {
   "cell_type": "markdown",
   "id": "93b1dce8",
   "metadata": {},
   "source": [
    "### Corrección de la parte I de mi compañero/a: 10 puntos\n",
    "\n",
    "- Suma 10 puntos si la evaluación realizada es correcta.\n",
    "- Suma 5 puntos si el manejo de arhivos está mal evaluado, pero el resto es correcto.\n",
    "- Suma 5 puntos si la definición de la función está mal evaluada pero el resto es correcto. "
   ]
  },
  {
   "cell_type": "code",
   "execution_count": null,
   "id": "8ebab756",
   "metadata": {
    "scrolled": true
   },
   "outputs": [],
   "source": [
    "# Sumo puntos de la sección - A COMPLETAR POR LA CATEDRA -\n",
    "puntos_parte_II += 10"
   ]
  },
  {
   "cell_type": "markdown",
   "id": "b6836a8f",
   "metadata": {},
   "source": [
    "### Análisis de la  solución propuesta por mi compañero/a: 10 puntos\n",
    "\n",
    "Responodé: "
   ]
  },
  {
   "attachments": {},
   "cell_type": "markdown",
   "id": "3631026c",
   "metadata": {},
   "source": [
    "- **¿Qué estructuras de datos usa para el manejo de los datos ingresados desde el archivo?** 3 ptos.\n",
    "- **Para el manejo de los datos ingresados del archivo, mi compañero/a utiliza una lista ya que castea al iterable csv_reader como una lista, y para el retorno de la funcion que crea el listado de usuarios que cumplen la condicion especificada utiliza listas.**\n"
   ]
  },
  {
   "attachments": {},
   "cell_type": "markdown",
   "id": "19c84303",
   "metadata": {},
   "source": [
    "- **¿Usa expresiones lambda, funciones map, filter, reduce u otra similar? ¿Están correctamente definidas?** 2 ptos.\n",
    "- **Mi compañero/a no utiliza ni expresiones lambda, ni funciones map, tampoco filter ni reduce.**\n"
   ]
  },
  {
   "attachments": {},
   "cell_type": "markdown",
   "id": "ece79493",
   "metadata": {},
   "source": [
    "- **¿Recorre el archivo más de lo necesario para resolver el ejercicio? ¿Se podría haber hecho de una mejor forma?Justificá.** 5 ptos. si justificás.\n",
    "- **No, recorre el archivo una unica vez para el procesamiento de los datos y luego una unica vez la lista retornada de usuarios para hacer los print necesarios. Yo creo que se puede mejorar esos recorridos y filtadros mediante el uso de list comprehension ya que de esta forma nos permite filtrar elementos que cumplan una condicion en un iterable que le especifiquemos. Otra alterntiva que tambien creo correcta es el uso de la funcion filter() para realizar el filtrado de datos recibidos en el archivo.**\n",
    "\n"
   ]
  },
  {
   "cell_type": "code",
   "execution_count": null,
   "id": "d63dc7e9",
   "metadata": {
    "scrolled": true
   },
   "outputs": [],
   "source": [
    "# Sumo puntos de la sección - A COMPLETAR POR LA CATEDRA -\n",
    "puntos_parte_II += 10"
   ]
  },
  {
   "cell_type": "markdown",
   "id": "29fdc855",
   "metadata": {},
   "source": [
    "## Escribí una solución alternativa a la planteada por tu compañero/a: 15 puntos <a name=\"parte2.2\"></a>\n",
    "**Esta solución será evaluada de acuerdo a las mismas pautas establecidas en este cuaderno.** (reduciendo proporcionalmente los puntos de cada sección, dado que el acá es 15 y no 25)"
   ]
  },
  {
   "cell_type": "code",
   "execution_count": 16,
   "id": "9a1bc0dc",
   "metadata": {
    "scrolled": true
   },
   "outputs": [
    {
     "name": "stdout",
     "output_type": "stream",
     "text": [
      "------------------------------\n",
      "Usuario en el Sistema    Hora\n",
      "------------------------------\n",
      "Pidgeotto             00:37:16\n",
      "Fearow                00:08:02\n",
      "Raticate              00:05:39\n",
      "Omastar               00:00:05\n",
      "Voltorb               01:00:09\n",
      "Rhyhorn               01:25:38\n",
      "Geodude               00:01:59\n",
      "Kadabra               00:33:28\n",
      "Ponyta                07:37:18\n",
      "Bellsprout            08:02:33\n",
      "Ditto                 08:32:44\n",
      "Kingler               08:34:52\n",
      "Mr. Mime              00:18:44\n",
      "Machamp               07:22:28\n",
      "Lickitung             08:17:59\n",
      "Nidoking              00:31:29\n",
      "Scyther               00:19:02\n",
      "Dugtrio               00:22:54\n",
      "Hitmonlee             06:14:13\n",
      "Carbink               07:50:04\n",
      "Machoke               00:55:53\n",
      "Poliwag               08:06:41\n",
      "Rattata               09:18:49\n",
      "Growlithe             08:56:00\n",
      "Clefable              06:16:45\n",
      "Oddish                01:48:54\n"
     ]
    }
   ],
   "source": [
    "# Solución alternativa\n",
    "import csv\n",
    "import os\n",
    "\n",
    "def creacion_usuarios(datos, todos = None):\n",
    "    \"\"\"Esta funcion recibe en el parametro \"datos\" el Dictreader sacado del archivo que se utilizará para crear\n",
    "       la estructura de datos adecuada para guardar los datos de los usuarios del 2 de Abril.\n",
    "\n",
    "       En el argumento \"todos\" se recibira el criterio a seguir a la hora de crear las estructuras con los usuarios.\n",
    "       \n",
    "       En el retorno de la funcion se retornará en la variable \"accesos\" la estructura procesada, en el caso que se\n",
    "       quiera ver todos los accesos se retorna una Lista, sino, se retorna un diccionario con solo los primeros accesos\n",
    "       de cada usuario.\"\"\"\n",
    "    \n",
    "\n",
    "    match todos:\n",
    "        case \"Todos\":\n",
    "           accesos = [usuario for usuario in datos if (\"2/04/23\" in usuario[\"Hora\"])]\n",
    "        case _:\n",
    "            accesos = {}\n",
    "            for usuario in datos:\n",
    "                nombre = usuario[\"Nombre completo del usuario\"]\n",
    "                hora = usuario[\"Hora\"].split(\",\")[1]\n",
    "                if \"2/04/23\" in usuario[\"Hora\"]:\n",
    "                    accesos[nombre] = hora\n",
    "                if((nombre in accesos.keys()) and (hora < accesos[nombre])):\n",
    "                    accesos[nombre] = hora\n",
    "    return accesos\n",
    "\n",
    "\n",
    "#Procesamiento de datos del archivo:  \n",
    "  \n",
    "ruta_completa = os.path.join(os.path.realpath(\".\"), \"log_catedras.csv\")\n",
    "with open(ruta_completa, 'r', encoding=\"utf-8\") as archivo:\n",
    "    csvreader = csv.DictReader (archivo, delimiter=\",\")\n",
    "    criterio = input(\"\"\"Ingrese \\\"Todos\\\" si desea ver el listado completo de accesos de los usuarios el 2 de Abril. \n",
    "                    O \\\"None\\\" y solo vera los primeros accesos\"\"\")\n",
    "    usuarios = creacion_usuarios(csvreader, criterio)\n",
    "\n",
    "#Impresion de los Resultados:\n",
    "\n",
    "texto_1 = \"Usuario en el Sistema\"\n",
    "texto_2 = \"Hora\"\n",
    "print(\"-\" * 30)\n",
    "print(f\"{texto_1:<24} {texto_2}\")\n",
    "print(\"-\" * 30)\n",
    "if (type(usuarios) == list):\n",
    "    [print (f\"{usuario['Nombre completo del usuario']:<20} {usuario['Hora'].split(',')[1]}\") for usuario in usuarios]\n",
    "else:\n",
    "    [print (f\"{nombre:<20} {hora}\") for nombre, hora in usuarios.items()]"
   ]
  },
  {
   "cell_type": "code",
   "execution_count": null,
   "id": "b61dae7c",
   "metadata": {
    "scrolled": true
   },
   "outputs": [],
   "source": [
    "# Sumo puntos de la sección - A COMPLETAR POR LA CATEDRA\n",
    "puntos_parte_II += 15"
   ]
  },
  {
   "cell_type": "markdown",
   "id": "7920e10b",
   "metadata": {},
   "source": [
    "## Uso de GPT - Total 5 puntos  <a name=\"parte2.3\"></a>\n",
    "\n",
    "\n",
    "**Mostrá una solución (o partes de la misma) dada por ChatGPT a este ejercicio.** (2.5 pts.)"
   ]
  },
  {
   "cell_type": "code",
   "execution_count": null,
   "id": "7f3abde7",
   "metadata": {},
   "outputs": [],
   "source": [
    "# Código dado por ChatGPT\n",
    "import csv\n",
    "from typing import Dict, List\n",
    "\n",
    "def leer_registros_csv(archivo_csv: str) -> List[Dict[str, str]]:\n",
    "    \"\"\"\n",
    "    Lee un archivo CSV con información de registros de acceso al sitio web y retorna una lista de diccionarios.\n",
    "    \"\"\"\n",
    "    registros = []\n",
    "    with open(archivo_csv, newline='') as csvfile:\n",
    "        reader = csv.DictReader(csvfile)\n",
    "        for row in reader:\n",
    "            # Se crea un nuevo campo con la fecha y hora concatenadas\n",
    "            row['fecha_hora'] = row['fecha'] + ' ' + row['hora']\n",
    "            registros.append(row)\n",
    "    return registros\n",
    "\n",
    "def accesos_2_abril(registros: List[Dict[str, str]], incluir_todos: bool = False) -> Dict[str, List[str]]:\n",
    "    \"\"\"\n",
    "    Retorna un diccionario con los usuarios que registraron accesos el día 2 de abril y en qué horarios lo hicieron.\n",
    "    Si incluir_todos es True, incluye todos los accesos en ese día; si es False, solo el primer acceso.\n",
    "    \"\"\"\n",
    "    accesos_2_abril = {}  # Diccionario para almacenar los resultados\n",
    "    for registro in registros:\n",
    "        if registro['fecha'] == '2/4/2023':  # Se verifica si es el día 2 de abril\n",
    "            usuario = registro['usuario']\n",
    "            hora = registro['hora']\n",
    "            if usuario in accesos_2_abril:\n",
    "                if incluir_todos:\n",
    "                    accesos_2_abril[usuario].append(hora)\n",
    "            else:\n",
    "                accesos_2_abril[usuario] = [hora] if not incluir_todos else [hora]\n",
    "    return accesos_2_abril\n",
    "\n",
    "def imprimir_accesos_2_abril(accesos_2_abril: Dict[str, List[str]]) -> None:\n",
    "    \"\"\"\n",
    "    Imprime la información de los accesos al sitio web el día 2 de abril por usuario y hora.\n",
    "    \"\"\"\n",
    "    for usuario, horas in accesos_2_abril.items():\n",
    "        horas_str = ', '.join(horas)\n",
    "        print(f'{usuario:<20}{horas_str}')\n",
    "\n",
    "# Ejemplo de uso\n",
    "registros = leer_registros_csv('registros.csv')\n",
    "accesos_2_abril = accesos_2_abril(registros)\n",
    "imprimir_accesos_2_abril(accesos_2_abril)\n"
   ]
  },
  {
   "cell_type": "markdown",
   "id": "9caf4a8f",
   "metadata": {},
   "source": [
    "**Respondé:** (2.5pts.)"
   ]
  },
  {
   "attachments": {},
   "cell_type": "markdown",
   "id": "92626791",
   "metadata": {},
   "source": [
    "1. **En la respuesta dada, ¿se incluyen funciones o métodos no dados por la cátedra?** (SI/NO)\n",
    "- **Funciones o métodos nuevos NO, Pero si utiliza sintaxis que no logro entender en la declarion de parametros de las funciones**"
   ]
  },
  {
   "attachments": {},
   "cell_type": "markdown",
   "id": "18c77963",
   "metadata": {},
   "source": [
    "2. **¿Es entendible el código y la explicación propuesta?** SI/NO (si la respuesta es NO, indicá qué parte no se entiende)\n",
    "- **NO**"
   ]
  },
  {
   "attachments": {},
   "cell_type": "markdown",
   "id": "7ba932f2",
   "metadata": {},
   "source": [
    "3. **Según esta experiencia, ¿podés decir si  el ejercicio que te tocó corregir fue resuelto con la ayuda de ChatGPT? ¿En qué te basás para responder esto?**\n",
    "- **No, no creo que el ejercicio que me haya tocado este hecho con ChatGPT. Para decir esto me baso en que cuando le pregunte a la inteligencia artificial como resolvería ella el ejercicio dió como resultado un programa con sintaxis a la que no estamos acostumbrados los alumnos y además que por ejemplo cuando la IA realiza funciones, nunca le falta el doc string o una explicacion de la misma, cosas que mas que nada a nosotros como alumnos se nos pueden escapar.**"
   ]
  },
  {
   "attachments": {},
   "cell_type": "markdown",
   "id": "ed9fc632",
   "metadata": {},
   "source": [
    "4. **Utilizaste la ayuda de ChatGPT para escribir la solución alternativa?** (SI/NO)\n",
    "- **NO**"
   ]
  },
  {
   "cell_type": "markdown",
   "id": "6eeae749",
   "metadata": {},
   "source": [
    "5. **Si respondiste afirmativamente la respuesta anterior, ¿de qué forma lo usaste?**\n",
    "Posibles respuestas (podés mencionar otras): \n",
    "- \"Lo usé para arrancar, ya que no se me ocurrió otra solución.\"\n",
    "- \"Lo usé para  verificar si lo que había planteado era correcto.\"\n",
    "- \"Lo usé sólo para definir la armar el listado pedido.\"\n",
    "- \"Lo usé sólo para ver cómo procesar el archivo de acuerdo a lo pedido.\""
   ]
  },
  {
   "cell_type": "code",
   "execution_count": null,
   "id": "0229a240",
   "metadata": {},
   "outputs": [],
   "source": [
    "# Sumo puntos de la sección - A COMPLETAR POR LA CATEDRA - \n",
    "puntos_parte_II += 5"
   ]
  },
  {
   "cell_type": "markdown",
   "id": "b0ba1701",
   "metadata": {},
   "source": [
    "### Total puntos de la actividad"
   ]
  },
  {
   "cell_type": "code",
   "execution_count": null,
   "id": "8248b652",
   "metadata": {
    "scrolled": true
   },
   "outputs": [],
   "source": [
    "print(f\"Puntos actividad 1 - Parte II: {puntos_parte_II if puntos_parte_II >0 else 0}\")"
   ]
  }
 ],
 "metadata": {
  "kernelspec": {
   "display_name": "Python 3 (ipykernel)",
   "language": "python",
   "name": "python3"
  },
  "language_info": {
   "codemirror_mode": {
    "name": "ipython",
    "version": 3
   },
   "file_extension": ".py",
   "mimetype": "text/x-python",
   "name": "python",
   "nbconvert_exporter": "python",
   "pygments_lexer": "ipython3",
   "version": "3.11.3"
  }
 },
 "nbformat": 4,
 "nbformat_minor": 5
}
