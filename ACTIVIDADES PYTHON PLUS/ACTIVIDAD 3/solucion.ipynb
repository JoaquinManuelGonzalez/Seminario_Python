{
 "cells": [
  {
   "cell_type": "code",
   "execution_count": 36,
   "metadata": {},
   "outputs": [
    {
     "name": "stdout",
     "output_type": "stream",
     "text": [
      "  Nombre completo del usuario  indice_raro\n",
      "0                  Butterfree        15.00\n",
      "1                       Hypno        34.00\n",
      "2                     Rhyhorn         0.15\n",
      "3                    Slowpoke        48.00\n"
     ]
    }
   ],
   "source": [
    "import pandas as pd\n",
    "\n",
    "\n",
    "def mi_funcion(datos, *nombres):\n",
    "    \"\"\"Esta funcion genera un data frame con usuarios e indices\n",
    "    a partir de un data set que se recibe por parámetro y una \n",
    "    tupla de nombres que deben ser los incluidos en el data frame\n",
    "    a retornar\n",
    "\n",
    "    Args:\n",
    "        datos <class 'pandas.core.frame.DataFrame'>: Data set Original\n",
    "\n",
    "    Returns:\n",
    "        <class 'pandas.core.frame.DataFrame'>: Data Frame generado\n",
    "    \"\"\"\n",
    "\n",
    "    # Filtro los datos del data set original\n",
    "    filtro = datos[[\"Nombre completo del usuario\", \"Origen\", \"indice_raro\"]]\n",
    "    # Me quedo únicamente con los usuarios que especifica \"nombres\"\n",
    "    # y además tienen en Origen \"web\"\n",
    "    filtro = filtro.loc[(filtro[\"Nombre completo del usuario\"].isin(\n",
    "        nombres)) & (filtro[\"Origen\"] == \"web\")]\n",
    "    # Calculo el minimo de los indices para cada usuario\n",
    "    filtro = filtro.groupby(\"Nombre completo del usuario\").agg(\n",
    "        {\"indice_raro\": \"min\"}).reset_index()\n",
    "\n",
    "    return filtro\n",
    "\n",
    "\n",
    "archivo_log = \"log_completo.csv\"\n",
    "try:\n",
    "    data_set = pd.read_csv(archivo_log, encoding=\"UTF-8\")\n",
    "except (FileNotFoundError, PermissionError):\n",
    "    print(\"No existe el Archivo\")\n",
    "else:\n",
    "    resultado = mi_funcion(\n",
    "        data_set, \"Hypno\", \"Butterfree\", \"Rhyhorn\", \"Slowpoke\")\n",
    "    print(resultado)"
   ]
  },
  {
   "cell_type": "code",
   "execution_count": 38,
   "metadata": {},
   "outputs": [
    {
     "name": "stdout",
     "output_type": "stream",
     "text": [
      "      Nombres  Indice\n",
      "0  Butterfree   15.00\n",
      "1       Hypno   34.00\n",
      "2     Rhyhorn    0.15\n",
      "3    Slowpoke   48.00\n"
     ]
    }
   ],
   "source": [
    "import pandas as pd\n",
    "\n",
    "\n",
    "def mi_funcion(datos, *nombres):\n",
    "    \"\"\"Esta funcion genera un data frame con usuarios e indices\n",
    "    a partir de un data set que se recibe por parámetro y una \n",
    "    tupla de nombres que deben ser los incluidos en el data frame\n",
    "    a retornar\n",
    "\n",
    "    Args:\n",
    "        datos <class 'pandas.core.frame.DataFrame'>: Data set Original\n",
    "\n",
    "    Returns:\n",
    "        <class 'pandas.core.frame.DataFrame'>: Data Frame generado\n",
    "    \"\"\"\n",
    "\n",
    "    # Genero tres Data Series con las columnas especificadas\n",
    "    usuarios = datos[\"Nombre completo del usuario\"]\n",
    "    origenes = datos[\"Origen\"]\n",
    "    indices = datos[\"indice_raro\"]\n",
    "    # Creo un diccionario para luego convertirlo a Dataframe\n",
    "    datos_filtrados = {\n",
    "        \"Nombres\": usuarios,\n",
    "        \"Origen\": origenes,\n",
    "        \"Indice\": indices\n",
    "    }\n",
    "    # Creo el Dataframe a partir del diccionario\n",
    "    datos_filtrados = pd.DataFrame(datos_filtrados)\n",
    "    # Me quedo únicamente con los usuarios que especifica \"nombres\"\n",
    "    # y además tienen en Origen \"web\"\n",
    "    datos_filtrados = datos_filtrados.loc[(datos_filtrados[\"Nombres\"].isin(\n",
    "        nombres)) & (datos_filtrados[\"Origen\"] == \"web\")]\n",
    "    # Calculo el minimo de los indices para cada usuario\n",
    "    datos_filtrados = datos_filtrados.groupby(\n",
    "        \"Nombres\").agg({\"Indice\": \"min\"}).reset_index()\n",
    "\n",
    "    return datos_filtrados\n",
    "\n",
    "\n",
    "archivo_log = \"log_completo.csv\"\n",
    "try:\n",
    "    data_set = pd.read_csv(archivo_log, encoding=\"UTF-8\")\n",
    "except (FileNotFoundError, PermissionError):\n",
    "    print(\"No existe el Archivo\")\n",
    "else:\n",
    "    resultado = mi_funcion(\n",
    "        data_set, \"Hypno\", \"Butterfree\", \"Rhyhorn\", \"Slowpoke\")\n",
    "    print(resultado)"
   ]
  }
 ],
 "metadata": {
  "kernelspec": {
   "display_name": "Python 3",
   "language": "python",
   "name": "python3"
  },
  "language_info": {
   "codemirror_mode": {
    "name": "ipython",
    "version": 3
   },
   "file_extension": ".py",
   "mimetype": "text/x-python",
   "name": "python",
   "nbconvert_exporter": "python",
   "pygments_lexer": "ipython3",
   "version": "3.11.3"
  },
  "orig_nbformat": 4
 },
 "nbformat": 4,
 "nbformat_minor": 2
}
