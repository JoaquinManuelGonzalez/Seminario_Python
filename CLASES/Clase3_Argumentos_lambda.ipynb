{
 "cells": [
  {
   "cell_type": "markdown",
   "id": "static-removal",
   "metadata": {
    "slideshow": {
     "slide_type": "slide"
    }
   },
   "source": [
    "# Seminario de Lenguajes - Python\n",
    "## Cursada 2023\n",
    "\n",
    "## Clase 3: funciones (cont.) - expresiones lambda"
   ]
  },
  {
   "cell_type": "markdown",
   "id": "bea7b785",
   "metadata": {
    "slideshow": {
     "slide_type": "subslide"
    }
   },
   "source": [
    "# Empecemos por un desafío ..."
   ]
  },
  {
   "cell_type": "markdown",
   "id": "greenhouse-attitude",
   "metadata": {
    "slideshow": {
     "slide_type": "slide"
    }
   },
   "source": [
    "# Desafío 1\n",
    "\n",
    "> Queremos escribir una función que imprima sus argumentos agregando de qué tipo son. \n",
    "- Por ejemplo, podríamos invocarla de la siguiente manera:\n",
    "\n",
    "```\n",
    "imprimo(1)         --> 1 es de tipo <class 'int'>\n",
    "imprimo(2, \"hola\") --> 2 es de tipo <class 'int'>, hola es de tipo                                     <class 'str'>\n",
    "imprimo([1,2], \"hola\", 3.2) \n",
    "                   --> [1, 2] es de tipo <class 'list', \n",
    "                       hola es de tipo <class 'str'>, \n",
    "                       3.2 es de tipo <class 'float'>\n",
    "```"
   ]
  },
  {
   "cell_type": "markdown",
   "id": "removable-feeding",
   "metadata": {
    "slideshow": {
     "slide_type": "fragment"
    }
   },
   "source": [
    "¿Qué tiene de distinta esta función respecto a las que vimos antes o conocemos de otros lenguajes?"
   ]
  },
  {
   "cell_type": "markdown",
   "id": "aa4430e8",
   "metadata": {
    "slideshow": {
     "slide_type": "subslide"
    }
   },
   "source": [
    "# ¿Opciones?"
   ]
  },
  {
   "cell_type": "code",
   "execution_count": null,
   "id": "fbadc98b",
   "metadata": {
    "slideshow": {
     "slide_type": "fragment"
    }
   },
   "outputs": [],
   "source": [
    "def imprimo():\n",
    "    print(\"Hola\")\n",
    "def imprimo(par1, par2):\n",
    "    print(par1)\n",
    "def imprimo(par1, par2, par3):\n",
    "    print(par1)\n",
    "    \n"
   ]
  },
  {
   "cell_type": "markdown",
   "id": "adult-palmer",
   "metadata": {
    "slideshow": {
     "slide_type": "subslide"
    }
   },
   "source": [
    "# Podemos definir funciones con un número variable de parámetros"
   ]
  },
  {
   "cell_type": "code",
   "execution_count": null,
   "id": "automated-russia",
   "metadata": {
    "slideshow": {
     "slide_type": "fragment"
    }
   },
   "outputs": [],
   "source": [
    "def imprimo(*args):\n",
    "    \"\"\" Esta función imprime los argumentos y sus tipos\"\"\"\n",
    "\n",
    "    for valor in args:\n",
    "        print(f\"{valor} es de tipo {type(valor)}\")    "
   ]
  },
  {
   "cell_type": "markdown",
   "id": "adjustable-orlando",
   "metadata": {
    "slideshow": {
     "slide_type": "fragment"
    }
   },
   "source": [
    "- **args** es una **tupla** que representa a los  parámetros pasados."
   ]
  },
  {
   "cell_type": "code",
   "execution_count": null,
   "id": "mighty-spelling",
   "metadata": {
    "slideshow": {
     "slide_type": "subslide"
    }
   },
   "outputs": [],
   "source": [
    "imprimo(1)\n",
    "print(\"-\"*30)\n",
    "imprimo(2, \"hola\")\n",
    "print(\"-\"*30)\n",
    "imprimo([1,2], \"hola\", 3.2)"
   ]
  },
  {
   "cell_type": "markdown",
   "id": "identified-distributor",
   "metadata": {
    "slideshow": {
     "slide_type": "subslide"
    }
   },
   "source": [
    "# Otra forma de definir una función con un número variable de parámetros"
   ]
  },
  {
   "cell_type": "code",
   "execution_count": null,
   "id": "critical-strip",
   "metadata": {
    "slideshow": {
     "slide_type": "fragment"
    }
   },
   "outputs": [],
   "source": [
    "def imprimo_otros_valores(**kwargs):\n",
    "    \"\"\" ..... \"\"\"\n",
    "\n",
    "    for clave, valor in kwargs.items():\n",
    "        print(f\"{clave} es {valor}\")"
   ]
  },
  {
   "cell_type": "markdown",
   "id": "polar-characteristic",
   "metadata": {
    "slideshow": {
     "slide_type": "fragment"
    }
   },
   "source": [
    "- **kwargs** es una **diccionario** que representa a los  parámetros pasados."
   ]
  },
  {
   "cell_type": "code",
   "execution_count": null,
   "id": "6f3b52b6",
   "metadata": {
    "slideshow": {
     "slide_type": "fragment"
    }
   },
   "outputs": [],
   "source": [
    "imprimo_otros_valores(banda1= 'Nirvana', banda2=\"Foo Fighters\", banda3=\"AC/DC\")"
   ]
  },
  {
   "cell_type": "markdown",
   "id": "damaged-jacket",
   "metadata": {
    "slideshow": {
     "slide_type": "subslide"
    }
   },
   "source": [
    "# También podemos tener lo siguiente:"
   ]
  },
  {
   "cell_type": "code",
   "execution_count": 1,
   "id": "patent-pattern",
   "metadata": {
    "slideshow": {
     "slide_type": "fragment"
    }
   },
   "outputs": [
    {
     "name": "stdout",
     "output_type": "stream",
     "text": [
      "2\n"
     ]
    }
   ],
   "source": [
    "def imprimo_datos(par1, par2, par3):\n",
    "    print(par2)\n",
    "\n",
    "secuencia = (1, 2, 3)\n",
    "imprimo_datos(*secuencia)"
   ]
  },
  {
   "cell_type": "markdown",
   "id": "bb526c3a",
   "metadata": {
    "slideshow": {
     "slide_type": "fragment"
    }
   },
   "source": [
    "- ¿De qué tipo es **secuencia**? \n",
    "- **Probar en casa** si es posible utilizar otras colecciones vistas."
   ]
  },
  {
   "cell_type": "markdown",
   "id": "3f9a2b27",
   "metadata": {
    "slideshow": {
     "slide_type": "subslide"
    }
   },
   "source": [
    "# Otra forma"
   ]
  },
  {
   "cell_type": "code",
   "execution_count": null,
   "id": "biological-queensland",
   "metadata": {
    "slideshow": {
     "slide_type": "fragment"
    }
   },
   "outputs": [],
   "source": [
    "def imprimo_contacto(nombre, celu):\n",
    "    #print(type(celu))\n",
    "    print(nombre, celu)\n",
    "\n",
    "contacto = {\"nombre\": \"Messi\", \"celu\": 12345}\n",
    "imprimo_contacto(**contacto)"
   ]
  },
  {
   "cell_type": "markdown",
   "id": "4434002b",
   "metadata": {
    "slideshow": {
     "slide_type": "fragment"
    }
   },
   "source": [
    "- ¿De qué tipo es **contacto**? \n",
    "- Observar el nombre de los parámetros: ¿qué podríamos decir?"
   ]
  },
  {
   "cell_type": "markdown",
   "id": "great-parameter",
   "metadata": {
    "slideshow": {
     "slide_type": "subslide"
    }
   },
   "source": [
    "# Probar en casa estos ejemplos:"
   ]
  },
  {
   "cell_type": "code",
   "execution_count": null,
   "id": "amended-manufacturer",
   "metadata": {
    "slideshow": {
     "slide_type": "fragment"
    }
   },
   "outputs": [],
   "source": [
    "def imprimo_elementos1(uno, dos, tres, cuatro):\n",
    "    \"\"\"Imprimo los valores de los dos primeros parámetros\"\"\"\n",
    "    print( f\"{uno}, {dos}\")\n",
    "\n",
    "def imprimo_elementos2(*argumentos):\n",
    "    \"\"\"Imprimo los valores de los argumentos\"\"\"\n",
    "    for valor in argumentos:\n",
    "        print( valor)\n",
    "\n",
    "def imprimo_elementos3(**argumentos):\n",
    "    \"\"\"Imprimo una tabla nombre-valor\"\"\"\n",
    "    for nombre, valor in argumentos.items():\n",
    "        print( f\"{nombre} = {valor}\")"
   ]
  },
  {
   "cell_type": "code",
   "execution_count": null,
   "id": "representative-configuration",
   "metadata": {
    "slideshow": {
     "slide_type": "subslide"
    }
   },
   "outputs": [],
   "source": [
    "tabla_numeros = { \"uno\": 1, \"dos\": 2, \"tres\":3, \"cuatro\": 4}\n",
    "\n",
    "print(\"Invoco a imprimo_elementos3 con  tabla_numeros como parámetro\")\n",
    "imprimo_elementos3(**tabla_numeros)\n",
    "print(\"-\" * 20)\n",
    "\n",
    "print(\"Invoco a imprimo_elementos3 con los parámetros nombrados\")\n",
    "imprimo_elementos3(uno =1, dos = 2, tres = 3, cuatro = 4)\n",
    "print(\"-\" * 20)\n",
    "\n",
    "print(\"Invoco a imprimo_elementos1 con  parámetros nombrados\")\n",
    "imprimo_elementos1(uno =\"I\", dos = \"II\", tres = \"III\", cuatro = \"IV\")\n",
    "\n",
    "print(\"-\" * 20)\n",
    "\n",
    "print(\"Invoco a imprimo_elementos1 con  parámetros simples\")\n",
    "imprimo_elementos1(\"I\", \"II\", \"III\", \"IV\")\n",
    "\n",
    "print(\"-\" * 20)\n",
    "print(\"Invoco a imprimo_elementos2 con  parámetros simples\")\n",
    "imprimo_elementos2(1,2,3,4)\n"
   ]
  },
  {
   "cell_type": "markdown",
   "id": "alpine-monkey",
   "metadata": {
    "slideshow": {
     "slide_type": "subslide"
    }
   },
   "source": [
    "# Desafío 2: ¿todo junto se puede? \n",
    "> Probar en casa y analizar el orden en el que definimos los parámetros.  "
   ]
  },
  {
   "cell_type": "code",
   "execution_count": null,
   "id": "found-marsh",
   "metadata": {
    "scrolled": true,
    "slideshow": {
     "slide_type": "fragment"
    }
   },
   "outputs": [],
   "source": [
    "def imprimo_muchos_valores(mensaje_inicial, *en_otro_idioma, **en_detalle):\n",
    "    print(\"Mensaje original\")\n",
    "    print(mensaje_inicial)\n",
    "    print(\"\\nEn otros idiomas\")\n",
    "    print(\"-\" * 40)\n",
    "    for val in en_otro_idioma:\n",
    "        print(val)\n",
    "    print(\"\\nEn detalle\")\n",
    "    print(\"-\" * 40)\n",
    "\n",
    "    for clave in en_detalle:\n",
    "        print(f\"{clave}: {en_detalle[clave]}\")\n",
    "    print(\"\\nFuente: traductor de Google. \")"
   ]
  },
  {
   "cell_type": "code",
   "execution_count": null,
   "id": "15b080f8",
   "metadata": {
    "scrolled": true,
    "slideshow": {
     "slide_type": "subslide"
    }
   },
   "outputs": [],
   "source": [
    "imprimo_muchos_valores(\"Hola\", \n",
    "    \"hello\", \"Hallo\", \"Aloha \", \"Witam\", \"Kia ora\", \n",
    "    ingles= \"hello\",\n",
    "    aleman=\"Hallo\",\n",
    "    hawaiano=\"Aloha\",\n",
    "    polaco=\"Witam\",\n",
    "    maori=\"Kia ora\")"
   ]
  },
  {
   "cell_type": "markdown",
   "id": "trying-spectrum",
   "metadata": {
    "slideshow": {
     "slide_type": "slide"
    }
   },
   "source": [
    "# Variables locales y globales"
   ]
  },
  {
   "cell_type": "code",
   "execution_count": null,
   "id": "aggressive-tracker",
   "metadata": {
    "slideshow": {
     "slide_type": "fragment"
    }
   },
   "outputs": [],
   "source": [
    "x = 12\n",
    "a = 13\n",
    "def funcion(a):\n",
    "    x = 9\n",
    "    a = 10\n",
    "\n",
    "funcion(a)\n",
    "print(a)\n",
    "print(x)"
   ]
  },
  {
   "cell_type": "markdown",
   "id": "hispanic-radiation",
   "metadata": {
    "slideshow": {
     "slide_type": "fragment"
    }
   },
   "source": [
    "- Variables locales enmascaran las globales.\n",
    "- Acceso a las globales mediante **global**."
   ]
  },
  {
   "cell_type": "markdown",
   "id": "249b8000",
   "metadata": {
    "slideshow": {
     "slide_type": "subslide"
    }
   },
   "source": [
    "# Espacio de nombres\n",
    "\n",
    "- Un espacio de nombres **relaciona nombres con objetos**.\n",
    "- Cuando se invoca a una función, se crea un espacio de nombres **local** con todos los recursos definidos en la función y que se elimina cuando la función finaliza su ejecución.\n",
    "\n",
    "\n",
    "### Volveremos a este tema más adelante..."
   ]
  },
  {
   "cell_type": "markdown",
   "id": "considered-hindu",
   "metadata": {
    "slideshow": {
     "slide_type": "subslide"
    }
   },
   "source": [
    "# ATENCION: ¿qué pasa en los siguientes ejemplos?\n"
   ]
  },
  {
   "cell_type": "code",
   "execution_count": null,
   "id": "perceived-rendering",
   "metadata": {
    "slideshow": {
     "slide_type": "fragment"
    }
   },
   "outputs": [],
   "source": [
    "x = 12\n",
    "\n",
    "def funcion1():\n",
    "    temp = x + 1\n",
    "    print(temp)\n",
    "\n",
    "def funcion2():\n",
    "    x = x + 1\n",
    "    print(x)\n",
    "\n",
    "funcion1()"
   ]
  },
  {
   "cell_type": "markdown",
   "id": "convertible-tanzania",
   "metadata": {
    "slideshow": {
     "slide_type": "slide"
    }
   },
   "source": [
    "# Volvamos a los parámetros: retomemos el ejemplo del video\n",
    "\n",
    "-  ¿Qué sucedió acá?"
   ]
  },
  {
   "cell_type": "code",
   "execution_count": null,
   "id": "weighted-people",
   "metadata": {
    "slideshow": {
     "slide_type": "fragment"
    }
   },
   "outputs": [],
   "source": [
    "como_recorro = \"invertido\"\n",
    "def muestro_cadena(cadena, orden=como_recorro):\n",
    "    \"\"\" Esta función retorna la cadena en forma invertida\"\"\"\n",
    "    \n",
    "    return cadena[::-1] if orden == \"invertido\" else cadena[:]"
   ]
  },
  {
   "cell_type": "code",
   "execution_count": null,
   "id": "8aad2259",
   "metadata": {
    "slideshow": {
     "slide_type": "fragment"
    }
   },
   "outputs": [],
   "source": [
    "muestro_cadena(\"Hola\")"
   ]
  },
  {
   "cell_type": "code",
   "execution_count": null,
   "id": "690b9802",
   "metadata": {
    "slideshow": {
     "slide_type": "fragment"
    }
   },
   "outputs": [],
   "source": [
    "como_recorro = \"normal\"\n",
    "muestro_cadena(\"Hola\")"
   ]
  },
  {
   "cell_type": "markdown",
   "id": "64047e14",
   "metadata": {
    "slideshow": {
     "slide_type": "subslide"
    }
   },
   "source": [
    "\n",
    "## <center>Los valores por defecto de los parámetros se evalúan una única vez cuando se define la función.\n",
    "</center>"
   ]
  },
  {
   "cell_type": "markdown",
   "id": "medieval-dover",
   "metadata": {
    "slideshow": {
     "slide_type": "subslide"
    }
   },
   "source": [
    "# Python permite definir funciones anidadas\n"
   ]
  },
  {
   "cell_type": "code",
   "execution_count": null,
   "id": "continuing-instruction",
   "metadata": {
    "slideshow": {
     "slide_type": "fragment"
    }
   },
   "outputs": [],
   "source": [
    "def uno():\n",
    "    def uno_uno():\n",
    "        print(\"uno_uno\")\n",
    "    def uno_dos():\n",
    "        print(\"uno_dos\")\n",
    "  \n",
    "    print(\"uno\")\n",
    "    uno_uno()\n",
    "    \n",
    "def dos():\n",
    "    print(\"dos\")\n",
    "    uno_dos()\n",
    "\n",
    "uno()"
   ]
  },
  {
   "cell_type": "markdown",
   "id": "final-patio",
   "metadata": {
    "slideshow": {
     "slide_type": "subslide"
    }
   },
   "source": [
    "# ¿Qué imprimimos en este caso?"
   ]
  },
  {
   "cell_type": "code",
   "execution_count": null,
   "id": "declared-stadium",
   "metadata": {
    "slideshow": {
     "slide_type": "fragment"
    }
   },
   "outputs": [],
   "source": [
    "\n",
    "x = 0\n",
    "def uno():\n",
    "    x = 10\n",
    "    def uno_uno():\n",
    "        #nonlocal x\n",
    "        #global x\n",
    "        x = 100\n",
    "        print(f\"En uno_uno: {x}\")\n",
    "\n",
    "    uno_uno()\n",
    "    print(f\"En uno: {x}\") \n",
    "\n",
    "uno()\n",
    "print(f\"En ppal: {x}\") "
   ]
  },
  {
   "cell_type": "markdown",
   "id": "negative-retreat",
   "metadata": {
    "slideshow": {
     "slide_type": "fragment"
    }
   },
   "source": [
    "- **global** y **nonlocal** permiten acceder a varables no locales a una función."
   ]
  },
  {
   "cell_type": "markdown",
   "id": "570aefc3",
   "metadata": {
    "slideshow": {
     "slide_type": "subslide"
    }
   },
   "source": [
    "# Recordemos el Zen de Python ...\n",
    "```\n",
    "...\n",
    "Simple es mejor que complejo.\n",
    "...\n",
    "Plano es mejor que anidado.\n",
    "...\n",
    "Espaciado es mejor que denso.\n",
    "\n",
    "La legibilidad es importante.\n",
    "...\n",
    "```\n"
   ]
  },
  {
   "cell_type": "markdown",
   "id": "371495f4",
   "metadata": {
    "slideshow": {
     "slide_type": "fragment"
    }
   },
   "source": [
    "¿Entonces?"
   ]
  },
  {
   "cell_type": "markdown",
   "id": "separated-tournament",
   "metadata": {
    "slideshow": {
     "slide_type": "slide"
    }
   },
   "source": [
    "# Observemos este ejemplo"
   ]
  },
  {
   "cell_type": "code",
   "execution_count": null,
   "id": "instrumental-budget",
   "metadata": {
    "slideshow": {
     "slide_type": "fragment"
    }
   },
   "outputs": [],
   "source": [
    "def envio_mensaje(mensaje, destino, origen=\"Claudia\", asunto=\"Consulta\"):\n",
    "    \"\"\" Esta función muestra un mensaje dirigido a destino\".\n",
    "    Argumentos:  \n",
    "    destino: es una cadena de caracteres que representa a la persona destinataria del mensaje\n",
    "    origen: es una cadena de caracteres que representa a la persona que envía el mensaje\n",
    "    asunto: es un cadena que representa el asunto del menjaje\n",
    "    \"\"\"\n",
    "    \n",
    "    print(f\"\"\"\n",
    "            Origen: {origen}\n",
    "            Destino: {destino}\n",
    "            Asunto: {asunto}\n",
    "            Mensaje: {mensaje}  \n",
    "        \"\"\")\n",
    "\n",
    "envio_mensaje(\"¿Cuánto falta para que temine la clase?\", \"Profe\")"
   ]
  },
  {
   "cell_type": "markdown",
   "id": "chronic-school",
   "metadata": {
    "slideshow": {
     "slide_type": "subslide"
    }
   },
   "source": [
    "# Atributos de las funciones\n",
    "\n",
    "- Las funciones en Python también son objetos.\n",
    "- Algunos de sus atributos:\n",
    "\n",
    "    - **funcion.\\_\\_doc__**: es el **docstring**.\n",
    "    - **funcion.\\_\\_name__**: es una cadena con el nombre la función.\n",
    "    - **funcion.\\_\\_defaults__**: es una tupla con los valores por defecto de los parámetros opcionales.\n",
    "\n"
   ]
  },
  {
   "cell_type": "code",
   "execution_count": null,
   "id": "24791b1d",
   "metadata": {
    "slideshow": {
     "slide_type": "subslide"
    }
   },
   "outputs": [],
   "source": [
    "print(envio_mensaje.__doc__)\n",
    "print(envio_mensaje.__defaults__)\n",
    "print(envio_mensaje.__name__)"
   ]
  },
  {
   "cell_type": "markdown",
   "id": "suspended-appreciation",
   "metadata": {
    "slideshow": {
     "slide_type": "slide"
    }
   },
   "source": [
    "# Desafío 3\n",
    "> Queremos implementar una función que dada una cadena de texto, retorne las palabras que contiene en orden alfabético."
   ]
  },
  {
   "cell_type": "code",
   "execution_count": null,
   "id": "vietnamese-flower",
   "metadata": {
    "slideshow": {
     "slide_type": "fragment"
    }
   },
   "outputs": [],
   "source": [
    "# Una posible solución\n",
    "def ordeno1(cadena=\"ss\"):\n",
    "    \"\"\" Implementación usando sort\"\"\"\n",
    "\n",
    "    lista = cadena.split()\n",
    "    #lista.sort(key=str.lower)\n",
    "    lista.sort()\n",
    "    return lista"
   ]
  },
  {
   "cell_type": "code",
   "execution_count": null,
   "id": "c3c4717d",
   "metadata": {
    "slideshow": {
     "slide_type": "fragment"
    }
   },
   "outputs": [],
   "source": [
    "print(ordeno1(\"Hoy puede ser un gran día. \"))"
   ]
  },
  {
   "cell_type": "markdown",
   "id": "bibliographic-celebrity",
   "metadata": {
    "slideshow": {
     "slide_type": "subslide"
    }
   },
   "source": [
    "# Otra forma"
   ]
  },
  {
   "cell_type": "code",
   "execution_count": null,
   "id": "continental-muscle",
   "metadata": {
    "slideshow": {
     "slide_type": "fragment"
    }
   },
   "outputs": [],
   "source": [
    "def ordeno2(cadena):\n",
    "    \"\"\" Implementación usando sorted\"\"\"\n",
    "\n",
    "    lista = cadena.split()\n",
    "    return sorted(lista, key=str.lower)"
   ]
  },
  {
   "cell_type": "code",
   "execution_count": null,
   "id": "c8895ed9",
   "metadata": {
    "slideshow": {
     "slide_type": "fragment"
    }
   },
   "outputs": [],
   "source": [
    "print(ordeno2(\"Hoy puede ser un gran día. \"))"
   ]
  },
  {
   "cell_type": "markdown",
   "id": "separate-filing",
   "metadata": {
    "slideshow": {
     "slide_type": "slide"
    }
   },
   "source": [
    "# Desafío 4\n",
    "\n",
    ">Queremos implementar una función que, dada una agenda de contactos con información de personas que compiten en distintos esports, nos retorne la agenda ordenada de acuerdo al nick. Tenemos registrada la siguiente info: **nick_name, equipo, TW, esport.**"
   ]
  },
  {
   "cell_type": "code",
   "execution_count": null,
   "id": "numerous-nursing",
   "metadata": {
    "slideshow": {
     "slide_type": "fragment"
    }
   },
   "outputs": [],
   "source": [
    "contactos_esport = [\n",
    "        (\"Try\",  \"9z\", \"@tryRSS\", \"CSGO\"),\n",
    "        (\"Kalita\", \"KRÜ\", \"@kalitafps\", \"Valorant\"),\n",
    "        (\"Kaze\", \"Isurus\", \"@@1Kazelol\", \"LOL\"),\n",
    "        (\"Khizha\", \"MIBR\", \"@khizha_ \", \"CSGO\"),\n",
    "        ]\n"
   ]
  },
  {
   "cell_type": "code",
   "execution_count": null,
   "id": "progressive-initial",
   "metadata": {
    "slideshow": {
     "slide_type": "fragment"
    }
   },
   "outputs": [],
   "source": [
    "# Posible solución\n"
   ]
  },
  {
   "cell_type": "markdown",
   "id": "genuine-choice",
   "metadata": {
    "slideshow": {
     "slide_type": "subslide"
    }
   },
   "source": [
    "# Analicemos esta solución"
   ]
  },
  {
   "cell_type": "code",
   "execution_count": null,
   "id": "55037f61",
   "metadata": {
    "slideshow": {
     "slide_type": "fragment"
    }
   },
   "outputs": [],
   "source": [
    "def ordeno3(contactos):\n",
    "    \"\"\" Usamos sorted con una expresión lambda\"\"\"\n",
    "\n",
    "    return sorted(contactos, key=lambda contacto: contacto[0])\n",
    "\n",
    "for elem in ordeno3(contactos_esport):\n",
    "    print(elem)"
   ]
  },
  {
   "cell_type": "markdown",
   "id": "adopted-netherlands",
   "metadata": {
    "slideshow": {
     "slide_type": "subslide"
    }
   },
   "source": [
    "# ¿Qué son las expresiones lambda?\n",
    "\n",
    "\n",
    "- Son funciones anónimas.\n",
    "```python\n",
    " lambda parametros : expresion \n",
    "```\n",
    "\n",
    "- [+Info](https://docs.python.org/3/tutorial/controlflow.html#lambda-expressions)"
   ]
  },
  {
   "cell_type": "code",
   "execution_count": null,
   "id": "hybrid-array",
   "metadata": {
    "slideshow": {
     "slide_type": "fragment"
    }
   },
   "outputs": [],
   "source": [
    "lambda a, b: a*b\n",
    "lambda a, b=1: a*b"
   ]
  },
  {
   "cell_type": "code",
   "execution_count": null,
   "id": "liable-whale",
   "metadata": {
    "slideshow": {
     "slide_type": "fragment"
    }
   },
   "outputs": [],
   "source": [
    "lambda a, b=1: a*b\n",
    "    \n",
    "def producto(a, b=1):\n",
    "    return a*b"
   ]
  },
  {
   "cell_type": "markdown",
   "id": "theoretical-bronze",
   "metadata": {
    "slideshow": {
     "slide_type": "subslide"
    }
   },
   "source": [
    "# Algunos ejemplos de uso"
   ]
  },
  {
   "cell_type": "code",
   "execution_count": null,
   "id": "embedded-ticket",
   "metadata": {
    "slideshow": {
     "slide_type": "fragment"
    }
   },
   "outputs": [],
   "source": [
    "lista_de_acciones = [lambda x: x * 2, lambda x: x * 3]\n",
    "\n",
    "param = 4\n",
    "\n",
    "for accion in lista_de_acciones:\n",
    "    print(accion(param))"
   ]
  },
  {
   "cell_type": "markdown",
   "id": "elder-darkness",
   "metadata": {
    "slideshow": {
     "slide_type": "fragment"
    }
   },
   "source": [
    "- ¿Qué tipo de elementos contiene la lista?\n",
    "- ¿Qué imprime?"
   ]
  },
  {
   "cell_type": "markdown",
   "id": "challenging-developer",
   "metadata": {
    "slideshow": {
     "slide_type": "subslide"
    }
   },
   "source": [
    "# Un ejemplo de la [documentación oficial](https://docs.python.org/3/tutorial/controlflow.html#lambda-expressions)"
   ]
  },
  {
   "cell_type": "code",
   "execution_count": null,
   "id": "recreational-ghana",
   "metadata": {
    "slideshow": {
     "slide_type": "fragment"
    }
   },
   "outputs": [],
   "source": [
    "def make_incrementor(n):\n",
    "    return lambda x: x + n\n",
    "\n",
    "f = make_incrementor(2)\n",
    "g = make_incrementor(6)\n",
    "\n",
    "print(f(42), g(42))\n",
    "print(make_incrementor(22)(33))"
   ]
  },
  {
   "cell_type": "markdown",
   "id": "155a3101",
   "metadata": {
    "slideshow": {
     "slide_type": "fragment"
    }
   },
   "source": [
    "**¿Entonces?**"
   ]
  },
  {
   "cell_type": "markdown",
   "id": "minus-difference",
   "metadata": {
    "slideshow": {
     "slide_type": "subslide"
    }
   },
   "source": [
    "# La función map"
   ]
  },
  {
   "cell_type": "code",
   "execution_count": null,
   "id": "protecting-lincoln",
   "metadata": {
    "slideshow": {
     "slide_type": "fragment"
    }
   },
   "outputs": [],
   "source": [
    "def doble(x):\n",
    "    return 2*x\n",
    "\n",
    "lista  = [1, 2, 3, 4, 5, 6, 7]\n",
    "\n",
    "dobles = map(doble, lista)\n",
    "for elem in dobles:\n",
    "    print(elem, end=\"-\")"
   ]
  },
  {
   "cell_type": "markdown",
   "id": "spanish-recommendation",
   "metadata": {
    "slideshow": {
     "slide_type": "subslide"
    }
   },
   "source": [
    "# La función filter"
   ]
  },
  {
   "cell_type": "code",
   "execution_count": null,
   "id": "unique-coach",
   "metadata": {
    "slideshow": {
     "slide_type": "fragment"
    }
   },
   "outputs": [],
   "source": [
    "def es_par(x):\n",
    "    return x % 2 == 0\n",
    "\n",
    "lista  = [1, 2, 3, 4, 5, 6, 7]\n",
    "\n",
    "pares = filter(es_par, lista)\n",
    "for elem in pares:\n",
    "    print(elem, end=\"-\")"
   ]
  },
  {
   "cell_type": "markdown",
   "id": "romantic-apple",
   "metadata": {
    "slideshow": {
     "slide_type": "subslide"
    }
   },
   "source": [
    "# map y fiter con  lambda"
   ]
  },
  {
   "cell_type": "code",
   "execution_count": null,
   "id": "spare-negotiation",
   "metadata": {
    "slideshow": {
     "slide_type": "fragment"
    }
   },
   "outputs": [],
   "source": [
    "lista  = [1, 2, 3, 4, 5, 6, 7]\n",
    "\n",
    "dobles = map(lambda x: 2*x, lista)\n",
    "pares = filter(lambda x: x%2 == 0, lista)\n",
    "\n",
    "for elem in dobles:\n",
    "    print(elem, end=\"-\")"
   ]
  },
  {
   "cell_type": "markdown",
   "id": "c84f6f87",
   "metadata": {
    "slideshow": {
     "slide_type": "subslide"
    }
   },
   "source": [
    "# La función reduce  "
   ]
  },
  {
   "cell_type": "code",
   "execution_count": null,
   "id": "66ba04c0",
   "metadata": {
    "slideshow": {
     "slide_type": "fragment"
    }
   },
   "outputs": [],
   "source": [
    "from functools import reduce\n",
    "\n",
    "lista  = [1, 2, 3, 4, 5, 6, 7]\n",
    "\n",
    "reduce(lambda a, b: a + b, lista)"
   ]
  },
  {
   "cell_type": "markdown",
   "id": "138ab155",
   "metadata": {
    "slideshow": {
     "slide_type": "subslide"
    }
   },
   "source": [
    "# ¿Qué dice la PEP 8 respecto a lambda?"
   ]
  },
  {
   "cell_type": "markdown",
   "id": "1b23c412",
   "metadata": {
    "slideshow": {
     "slide_type": "fragment"
    }
   },
   "source": [
    "Si queremos definir la función **doble**, por ejemplo, usemos **def** y no **lambda**. \n",
    "\n",
    "```python\n",
    "# Si\n",
    "def doble(x): \n",
    "    return 2*x\n",
    "\n",
    "# No \n",
    "doble = lambda x: 2*x\n",
    "```"
   ]
  },
  {
   "cell_type": "markdown",
   "id": "f6036bcc",
   "metadata": {
    "slideshow": {
     "slide_type": "subslide"
    }
   },
   "source": [
    "# Y en estos casos..."
   ]
  },
  {
   "cell_type": "code",
   "execution_count": null,
   "id": "234f0eac",
   "metadata": {
    "slideshow": {
     "slide_type": "fragment"
    }
   },
   "outputs": [],
   "source": [
    "lista = [1, 2, 3, 4]\n",
    "\n",
    "dobles = [2*x for x in lista]\n",
    "#dobles = map(lambda x: 2*x, lista)\n",
    "\n",
    "for elem in dobles:\n",
    "    print(elem, end=\"-\")"
   ]
  },
  {
   "cell_type": "code",
   "execution_count": null,
   "id": "58e41f70",
   "metadata": {
    "slideshow": {
     "slide_type": "fragment"
    }
   },
   "outputs": [],
   "source": [
    "lista = [1, 2, 3, 4]\n",
    "\n",
    "pares = [x for x in lista if x%2 ==0]\n",
    "#pares = filter(lambda x: x%2 == 0, lista)\n",
    "for elem in pares:\n",
    "    print(elem, end=\"-\")"
   ]
  },
  {
   "cell_type": "code",
   "execution_count": null,
   "id": "8d6e7e40",
   "metadata": {
    "slideshow": {
     "slide_type": "subslide"
    }
   },
   "outputs": [],
   "source": [
    "from functools import reduce\n",
    "\n",
    "lista  = [1, 2, 3, 4, 5, 6, 7]\n",
    "sum(lista)\n",
    "\n",
    "#reduce(lambda a, b: a + b, lista)"
   ]
  },
  {
   "cell_type": "markdown",
   "id": "dde7b523",
   "metadata": {
    "slideshow": {
     "slide_type": "subslide"
    }
   },
   "source": [
    "# Entonces...¿usamos lambda?"
   ]
  },
  {
   "cell_type": "markdown",
   "id": "96f94544",
   "metadata": {
    "slideshow": {
     "slide_type": "fragment"
    }
   },
   "source": [
    "De los ejemplos vistos en la clase...\n",
    "\n",
    "\n",
    "```python\n",
    "def make_incrementor(n):\n",
    "    return lambda x: x + n\n",
    "\n",
    "def ordeno3(contactos):\n",
    "    \"\"\" Usamos sorted con una expresión lambda\"\"\"\n",
    "\n",
    "    return sorted(contactos, key=lambda contacto: contacto[0])\n",
    "```"
   ]
  },
  {
   "cell_type": "markdown",
   "id": "a055e431",
   "metadata": {
    "slideshow": {
     "slide_type": "slide"
    }
   },
   "source": [
    "# Un  artículo sobre estilo de código\n",
    "\n",
    "https://realpython.com/python-pep8/"
   ]
  },
  {
   "cell_type": "markdown",
   "id": "superior-healing",
   "metadata": {
    "slideshow": {
     "slide_type": "slide"
    }
   },
   "source": [
    "# Desafío 5\n",
    "\n",
    "> Queremos codificar una frase según el siguiente algoritmo:\n",
    "```\n",
    "encripto(\"a\") --> \"b\"\n",
    "encripto(\"ABC\") --> \"BCD\"\n",
    "encripto(\"Rock2021\") --> \"Spdl3132\"\n",
    "```\n",
    "Una explicación simple de la WIkipedia: [Cifrado César](https://es.wikipedia.org/wiki/Cifrado_C%C3%A9sar#:~:text=El%20cifrado%20C%C3%A9sar%20mueve%20cada,de%20espacios%20en%20el%20alfabeto.&text=Es%20un%20tipo%20de%20cifrado,m%C3%A1s%20adelante%20en%20el%20alfabeto.)\n",
    "\n",
    "- Escribir dos versiones de la solución: una sin usar lambda y otra usando.\n",
    "- Si quieren, subir el código modificado a su  repositorio en  GitHub y compartir el enlace a la cuenta @clauBanchoff"
   ]
  },
  {
   "cell_type": "markdown",
   "id": "06e06bea",
   "metadata": {
    "slideshow": {
     "slide_type": "slide"
    }
   },
   "source": [
    "# Seguimos la semana  próxima ..."
   ]
  }
 ],
 "metadata": {
  "celltoolbar": "Slideshow",
  "kernelspec": {
   "display_name": "Python 3 (ipykernel)",
   "language": "python",
   "name": "python3"
  },
  "language_info": {
   "codemirror_mode": {
    "name": "ipython",
    "version": 3
   },
   "file_extension": ".py",
   "mimetype": "text/x-python",
   "name": "python",
   "nbconvert_exporter": "python",
   "pygments_lexer": "ipython3",
   "version": "3.11.2"
  }
 },
 "nbformat": 4,
 "nbformat_minor": 5
}
