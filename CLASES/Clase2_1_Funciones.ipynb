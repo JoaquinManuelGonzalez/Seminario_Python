{
 "cells": [
  {
   "cell_type": "markdown",
   "id": "mobile-stanford",
   "metadata": {
    "slideshow": {
     "slide_type": "slide"
    }
   },
   "source": [
    "# Seminario de Lenguajes - Python\n",
    "### Definición de funciones. Parámetros"
   ]
  },
  {
   "cell_type": "markdown",
   "id": "incident-easter",
   "metadata": {
    "slideshow": {
     "slide_type": "slide"
    }
   },
   "source": [
    "#  Funciones en Python: una forma de definir procesos o subprogramas\n",
    "\n",
    "Recordemos el  **desafío 5** de la clase:"
   ]
  },
  {
   "cell_type": "markdown",
   "id": "34fbeba5",
   "metadata": {
    "slideshow": {
     "slide_type": "fragment"
    }
   },
   "source": [
    "> Volvemos a procesar las películas de Harry Potter.\n",
    "\n",
    "Queremos saber:\n",
    "- cuál fue la duración, en minutos, promedio; y\n",
    "- **qué** películas duran más que el promedio, en minutos."
   ]
  },
  {
   "cell_type": "markdown",
   "id": "277ecef4",
   "metadata": {
    "slideshow": {
     "slide_type": "subslide"
    }
   },
   "source": [
    "Veamos un posible pseudocódigo de la solución:\n",
    "```\n",
    "Ingresar los nombres y duración  de las películas.\n",
    "Calcular el promedio.\n",
    "Mostrar qué  películas duran más que el promedio.\n",
    "```\n",
    "\n",
    "Podríamos pensar en dividir en tres procesos: "
   ]
  },
  {
   "cell_type": "markdown",
   "id": "134a6902",
   "metadata": {
    "slideshow": {
     "slide_type": "subslide"
    }
   },
   "source": [
    "- En Python, usamos **funciones** para definir estos procesos.\n",
    "- Las funciones pueden recibir **parámetros**.\n",
    "- Y también retornan siempre un valor. Esto puede hacerse en forma implícita o explícita usando la sentencia **return**."
   ]
  },
  {
   "cell_type": "markdown",
   "id": "2d760c6b",
   "metadata": {
    "slideshow": {
     "slide_type": "subslide"
    }
   },
   "source": [
    "# Ya usamos funciones\n",
    "\n",
    "\n",
    "- float(), int()\n",
    "- input(), print()\n",
    "- sum()"
   ]
  },
  {
   "cell_type": "markdown",
   "id": "b220a5d3",
   "metadata": {
    "slideshow": {
     "slide_type": "fragment"
    }
   },
   "source": [
    "En estos ejemplos, sólo **invocamos** a las funciones ya predefinidas de Python."
   ]
  },
  {
   "cell_type": "markdown",
   "id": "db88ff94",
   "metadata": {
    "slideshow": {
     "slide_type": "subslide"
    }
   },
   "source": [
    "# Podemos definir nuestras propias funciones \n",
    "\n",
    "```python\n",
    "\tdef nombre_funcion(parametros):\n",
    "\t\tsentencias\n",
    "\t\treturn <expresion>\n",
    "```\n",
    "- **IMPORTANTE:** el cuerpo de la función debe estar **indentado**."
   ]
  },
  {
   "cell_type": "markdown",
   "id": "5fe79f44",
   "metadata": {
    "slideshow": {
     "slide_type": "subslide"
    }
   },
   "source": [
    "# La función para el primer proceso del desafío"
   ]
  },
  {
   "cell_type": "code",
   "execution_count": null,
   "id": "91218673",
   "metadata": {
    "slideshow": {
     "slide_type": "fragment"
    }
   },
   "outputs": [],
   "source": [
    "def ingreso_pelis():\n",
    "    \"\"\" Esta función retorna un diccionario con los nombres y duración de películas \"\"\"\n",
    "    \n",
    "    peli = input(\"Ingresa el nombre de una película de Harry Potter nombre (<FIN> para finalizar)\")\n",
    "    dicci = {}\n",
    "    while peli != \"FIN\":\n",
    "        cant_minutos = int(input(f\"Ingresa la duración de la película  {peli}\"))\n",
    "        dicci[peli] = cant_minutos\n",
    "        peli = input(\"Ingresa el nombre de una película de Harry Potter nombre (<FIN> para finalizar)\")\n",
    "    return dicci"
   ]
  },
  {
   "cell_type": "code",
   "execution_count": null,
   "id": "771f97d0",
   "metadata": {
    "slideshow": {
     "slide_type": "fragment"
    }
   },
   "outputs": [],
   "source": [
    "pelis = ingreso_pelis()\n",
    "pelis"
   ]
  },
  {
   "cell_type": "markdown",
   "id": "b0d0535a",
   "metadata": {
    "slideshow": {
     "slide_type": "fragment"
    }
   },
   "source": [
    "- **¡IMPORTANTE!** Definición vs. invocación.\n"
   ]
  },
  {
   "cell_type": "markdown",
   "id": "36464b84",
   "metadata": {
    "slideshow": {
     "slide_type": "subslide"
    }
   },
   "source": [
    "#  El docstring"
   ]
  },
  {
   "cell_type": "markdown",
   "id": "6ddc87fb",
   "metadata": {
    "slideshow": {
     "slide_type": "fragment"
    }
   },
   "source": [
    "- Es una secuencia de caracteres que describe la  función.\n",
    "- Se sugiere siempre utilizar  triples \".\n",
    "- Son procesados por el intérprete."
   ]
  },
  {
   "cell_type": "code",
   "execution_count": null,
   "id": "fced2ac3",
   "metadata": {
    "slideshow": {
     "slide_type": "fragment"
    }
   },
   "outputs": [],
   "source": [
    "help(print)"
   ]
  },
  {
   "cell_type": "markdown",
   "id": "d889106a",
   "metadata": {
    "slideshow": {
     "slide_type": "subslide"
    }
   },
   "source": [
    "## ¿Qué pasa si no incluyo el **return**?"
   ]
  },
  {
   "cell_type": "code",
   "execution_count": 1,
   "id": "83f1f39d",
   "metadata": {
    "slideshow": {
     "slide_type": "fragment"
    }
   },
   "outputs": [
    {
     "name": "stdout",
     "output_type": "stream",
     "text": [
      "10\n",
      "None\n"
     ]
    }
   ],
   "source": [
    "def demo_funcion_sin_return():\n",
    "    var = 10\n",
    "    print(var)\n",
    "    \n",
    "x = demo_funcion_sin_return()\n",
    "print(x)"
   ]
  },
  {
   "cell_type": "markdown",
   "id": "reflected-amateur",
   "metadata": {
    "slideshow": {
     "slide_type": "subslide"
    }
   },
   "source": [
    "Ahora observemos este código que implementa una posible solución al segundo proceso:"
   ]
  },
  {
   "cell_type": "code",
   "execution_count": null,
   "id": "designed-vessel",
   "metadata": {
    "slideshow": {
     "slide_type": "fragment"
    }
   },
   "outputs": [],
   "source": [
    "def calculo_promedio(dicci_duraciones):\n",
    "    \"\"\" Esta función calcula el promedio de las duraciones de las películas recibida por parámetro.\n",
    "    dicci: es un diccionario de forma nombre_pelucula: duracion\n",
    "    \"\"\"\n",
    "    suma = sum(dicci_duraciones.values())\n",
    "    cant_pelis = len(dicci_duraciones)\n",
    "    promedio = 0 if cant_pelis ==0 else suma/cant_pelis   \n",
    "    return promedio\n",
    "\n",
    "calculo_promedio(pelis)"
   ]
  },
  {
   "cell_type": "markdown",
   "id": "limiting-dollar",
   "metadata": {
    "slideshow": {
     "slide_type": "fragment"
    }
   },
   "source": [
    "- A diferencia de la función anterior, ésta tiene un parámetro.\n",
    "- ¿Hay distintas formas de pasar parámetros en Python? ¿Cómo podemos probar esto?"
   ]
  },
  {
   "cell_type": "markdown",
   "id": "finite-recommendation",
   "metadata": {
    "slideshow": {
     "slide_type": "subslide"
    }
   },
   "source": [
    "# Parámetros en Python\n",
    "Veamos un ejemplo más sencillo: ¿qué podemos observar?"
   ]
  },
  {
   "cell_type": "code",
   "execution_count": 2,
   "id": "ea56a3f3",
   "metadata": {
    "slideshow": {
     "slide_type": "fragment"
    }
   },
   "outputs": [
    {
     "name": "stdout",
     "output_type": "stream",
     "text": [
      "El valor de param al ingresar a la función es 10\n",
      "El valor de param en la función es 0\n",
      "Luego de invocar a la función el valor de num es 10\n"
     ]
    }
   ],
   "source": [
    "def proceso_parametros_simples(param):\n",
    "    \"Esta función  modifica el parámetro recibido.\"\n",
    "\n",
    "    print(f\"El valor de param al ingresar a la función es {param}\")\n",
    "    param = 0\n",
    "    print(f\"El valor de param en la función es {param}\")\n",
    "\n",
    "num = 10\n",
    "proceso_parametros_simples(num)\n",
    "print(f\"Luego de invocar a la función el valor de num es {num}\")"
   ]
  },
  {
   "cell_type": "markdown",
   "id": "medium-avatar",
   "metadata": {
    "slideshow": {
     "slide_type": "subslide"
    }
   },
   "source": [
    "### Y ahora  analicemos este otro ejemplo:"
   ]
  },
  {
   "cell_type": "code",
   "execution_count": 3,
   "id": "sublime-implement",
   "metadata": {
    "slideshow": {
     "slide_type": "fragment"
    }
   },
   "outputs": [
    {
     "name": "stdout",
     "output_type": "stream",
     "text": [
      "El valor de param al ingresar a la función es [100, 200, 300]\n",
      "El valor de param en la función es ['cero', 200, 300]\n",
      "Luego de invocar a la función el valor de lista es ['cero', 200, 300]\n"
     ]
    }
   ],
   "source": [
    "def proceso_parametros_colecciones(param):\n",
    "    \"\"\"Esta función actualiza la primera posición de la colección recibida como parámetro.\"\"\"\n",
    "\n",
    "    print(f\"El valor de param al ingresar a la función es {param}\")\n",
    "    param[0] = \"cero\"\n",
    "    print(f\"El valor de param en la función es {param}\")\n",
    "\n",
    "\n",
    "lista = [100, 200, 300]\n",
    "proceso_parametros_colecciones(lista)\n",
    "print(f\"Luego de invocar a la función el valor de lista es {lista}\")\n"
   ]
  },
  {
   "cell_type": "markdown",
   "id": "continued-victoria",
   "metadata": {
    "slideshow": {
     "slide_type": "fragment"
    }
   },
   "source": [
    "### Entonces, ¿qué podemos decir sobre el pasaje de parámetros en Python?"
   ]
  },
  {
   "cell_type": "markdown",
   "id": "available-disorder",
   "metadata": {
    "slideshow": {
     "slide_type": "subslide"
    }
   },
   "source": [
    "# <center> Cuando pasamos un parámetro a una función, pasamos **una copia de la referencia** al objeto pasado</center>"
   ]
  },
  {
   "cell_type": "markdown",
   "id": "civilian-despite",
   "metadata": {
    "slideshow": {
     "slide_type": "subslide"
    }
   },
   "source": [
    "# Miremos este otro ejemplo"
   ]
  },
  {
   "cell_type": "code",
   "execution_count": 4,
   "id": "extensive-venture",
   "metadata": {
    "slideshow": {
     "slide_type": "fragment"
    }
   },
   "outputs": [
    {
     "name": "stdout",
     "output_type": "stream",
     "text": [
      "El valor de param al ingresar a la función parametros_colecciones es [100, 200, 300]\n",
      "El valor de param en la función parametros_colecciones es ['cero', 200, 300]\n",
      "Luego de invocar a la función el valor de lista es [100, 200, 300]\n"
     ]
    }
   ],
   "source": [
    "def proceso_parametros_colecciones_1(param):\n",
    "    \"\"\"Esta función actualiza la primera posición de la colección recibida como parámetro.\"\"\"\n",
    "\n",
    "    mi_lista = param[:]\n",
    "    print(f\"El valor de param al ingresar a la función parametros_colecciones es {mi_lista}\")\n",
    "    mi_lista[0] = \"cero\"\n",
    "    print(f\"El valor de param en la función parametros_colecciones es {mi_lista}\")\n",
    "\n",
    "lista = [100, 200, 300]\n",
    "proceso_parametros_colecciones_1(lista)\n",
    "print(f\"Luego de invocar a la función el valor de lista es {lista}\")"
   ]
  },
  {
   "cell_type": "markdown",
   "id": "arctic-nurse",
   "metadata": {
    "slideshow": {
     "slide_type": "fragment"
    }
   },
   "source": [
    "- ¿Qué pasa en este caso? "
   ]
  },
  {
   "cell_type": "markdown",
   "id": "hollywood-mobility",
   "metadata": {
    "slideshow": {
     "slide_type": "subslide"
    }
   },
   "source": [
    "# ¿Podemos retornar más de un valor?\n",
    "\n",
    "## Desafio 1\n",
    "\n",
    "\n",
    "> Queremos definir una función que, dada una cadena de caracteres,  retorne la **cantidad de vocales abiertas, vocales cerradas y la cantidad total de caracteres** de la misma. "
   ]
  },
  {
   "cell_type": "markdown",
   "id": "0a96e3c0",
   "metadata": {
    "slideshow": {
     "slide_type": "subslide"
    }
   },
   "source": [
    "# Una posible solución\n",
    "- ¿Qué tipo de dato retorna la función?"
   ]
  },
  {
   "cell_type": "code",
   "execution_count": null,
   "id": "adaptive-assembly",
   "metadata": {
    "slideshow": {
     "slide_type": "fragment"
    }
   },
   "outputs": [],
   "source": [
    "def retorno_varios(cadena):\n",
    "    \"\"\" ..... \"\"\"\n",
    "    cadena = cadena.lower()\n",
    "    cant_aeo = cadena.count(\"a\") + cadena.count(\"e\") + cadena.count(\"o\")\n",
    "    cant_iu = cadena.count(\"i\") + cadena.count(\"u\")\n",
    "    return cant_aeo, cant_iu, len(cadena)\n",
    "\n",
    "\n",
    "algo = retorno_varios(\"Seminario de Python\")\n",
    "type(algo)"
   ]
  },
  {
   "cell_type": "markdown",
   "id": "overhead-melbourne",
   "metadata": {
    "slideshow": {
     "slide_type": "subslide"
    }
   },
   "source": [
    "# ¿Cómo accedemos a los valores retornados?\n",
    " \n",
    "- En el return se devuelve una tupla, por lo tanto, accedemos como en cualquier tupla:"
   ]
  },
  {
   "cell_type": "code",
   "execution_count": null,
   "id": "meaning-anthony",
   "metadata": {
    "slideshow": {
     "slide_type": "fragment"
    }
   },
   "outputs": [],
   "source": [
    "vocales_abiertas = retorno_varios(\"Seminario de Python\")[0]\n",
    "vocales_abiertas"
   ]
  },
  {
   "cell_type": "code",
   "execution_count": null,
   "id": "impaired-visit",
   "metadata": {
    "slideshow": {
     "slide_type": "fragment"
    }
   },
   "outputs": [],
   "source": [
    "abiertas, cerradas, longitud = retorno_varios(\"Espero que este video sea corto\")\n",
    "cerradas"
   ]
  },
  {
   "cell_type": "markdown",
   "id": "adult-contest",
   "metadata": {
    "slideshow": {
     "slide_type": "slide"
    }
   },
   "source": [
    "# Los parámetros pueden tener valores por defecto\n",
    "\n",
    "Observemos esta estructura. ¿De qué tipo es?"
   ]
  },
  {
   "cell_type": "code",
   "execution_count": 7,
   "id": "eac009a2",
   "metadata": {
    "slideshow": {
     "slide_type": "fragment"
    }
   },
   "outputs": [],
   "source": [
    "dicci_musica = {\"bart\": {\"internacional\": [\"AC/DC\", \"Led Zeppelin\", \"Bruce Springsteen\"],\n",
    "                         \"nacional\": [\"Pappo\", \"Miguel Mateos\", \"Los Piojos\", \"Nonpalidece\"]\n",
    "                         },\n",
    "                \"lisa\": {\"internacional\": [\"Ricky Martin\", \"Maluma\"],\n",
    "                         \"nacional\": [\"Lali\", \"Tini\", \"Wos\"]}\n",
    "               }"
   ]
  },
  {
   "cell_type": "code",
   "execution_count": 5,
   "id": "dutch-chicago",
   "metadata": {
    "slideshow": {
     "slide_type": "subslide"
    }
   },
   "outputs": [],
   "source": [
    "def mi_musica(dicci_musica, nombre, tipo_musica=\"nacional\"):\n",
    "    \"\"\" .... \"\"\"\n",
    "    if nombre in dicci_musica:\n",
    "        usuario = dicci_musica[nombre]\n",
    "        for elem in usuario[tipo_musica]:\n",
    "            print(elem)\n",
    "    else:\n",
    "        print(f\"¡Hola {nombre}! No tenés registrada música en esta colección\")"
   ]
  },
  {
   "cell_type": "code",
   "execution_count": 8,
   "id": "5f939186",
   "metadata": {
    "slideshow": {
     "slide_type": "fragment"
    }
   },
   "outputs": [
    {
     "name": "stdout",
     "output_type": "stream",
     "text": [
      "Pappo\n",
      "Miguel Mateos\n",
      "Los Piojos\n",
      "Nonpalidece\n"
     ]
    }
   ],
   "source": [
    "mi_musica(dicci_musica, \"bart\")"
   ]
  },
  {
   "cell_type": "markdown",
   "id": "forty-renewal",
   "metadata": {
    "slideshow": {
     "slide_type": "fragment"
    }
   },
   "source": [
    "Si hay más de un argumento, los  que tienen **valores por defecto  siempre van al final de la lista de parámetros**."
   ]
  },
  {
   "cell_type": "markdown",
   "id": "turkish-collectible",
   "metadata": {
    "slideshow": {
     "slide_type": "subslide"
    }
   },
   "source": [
    "Los parámetros formales y reales se asocian de acuerdo al **orden posicional**, pero invocar a la función con los parámetros en **otro orden** pero **nombrando al parámetro**."
   ]
  },
  {
   "cell_type": "code",
   "execution_count": null,
   "id": "quick-worth",
   "metadata": {
    "slideshow": {
     "slide_type": "fragment"
    }
   },
   "outputs": [],
   "source": [
    "mi_musica(dicci_musica, tipo_musica=\"internacional\", nombre=\"lisa\")"
   ]
  },
  {
   "cell_type": "markdown",
   "id": "c6e252c1",
   "metadata": {
    "slideshow": {
     "slide_type": "slide"
    }
   },
   "source": [
    "# Un último ejemplo"
   ]
  },
  {
   "cell_type": "markdown",
   "id": "dfe470d9",
   "metadata": {
    "slideshow": {
     "slide_type": "fragment"
    }
   },
   "source": [
    "En realidad podemos utilizar el slicing como **secuencia[i:j:k]**\n",
    "\n",
    "donde:\n",
    "- **i:** representa el límite inferior para comenzar,\n",
    "- **j:** la posición hasta donde queremos incluir elementos\n",
    "- **k:** cada cuántos valores queremos que nos muestre, o sea, el salto de un elemento al siguiente."
   ]
  },
  {
   "cell_type": "markdown",
   "id": "ec2fa9ea",
   "metadata": {
    "slideshow": {
     "slide_type": "subslide"
    }
   },
   "source": [
    "# Analicemos este código"
   ]
  },
  {
   "cell_type": "code",
   "execution_count": null,
   "id": "5652d3b6",
   "metadata": {
    "slideshow": {
     "slide_type": "fragment"
    }
   },
   "outputs": [],
   "source": [
    "como_recorro = \"invertido\"\n",
    "def muestro_cadena(cadena, orden=como_recorro):\n",
    "    \"\"\" Esta función retorna la cadena de acuerdo al parámetro orden \"\"\"\n",
    "    \n",
    "    return cadena[::-1] if orden == \"invertido\" else cadena[:]"
   ]
  },
  {
   "cell_type": "code",
   "execution_count": null,
   "id": "4533cd87",
   "metadata": {
    "slideshow": {
     "slide_type": "fragment"
    }
   },
   "outputs": [],
   "source": [
    "muestro_cadena(\"Hola\")"
   ]
  },
  {
   "cell_type": "code",
   "execution_count": null,
   "id": "3697dbe1",
   "metadata": {
    "slideshow": {
     "slide_type": "fragment"
    }
   },
   "outputs": [],
   "source": [
    "como_recorro = \"normal\""
   ]
  },
  {
   "cell_type": "markdown",
   "id": "1ad24790",
   "metadata": {
    "slideshow": {
     "slide_type": "fragment"
    }
   },
   "source": [
    "¿Qué pasa ahora si vuelvo a invocar a la función? **Investigar qué es lo que sucede acá.**"
   ]
  },
  {
   "cell_type": "code",
   "execution_count": null,
   "id": "15405e1b",
   "metadata": {
    "slideshow": {
     "slide_type": "fragment"
    }
   },
   "outputs": [],
   "source": [
    "muestro_cadena(\"Hola\")"
   ]
  },
  {
   "cell_type": "markdown",
   "id": "ideal-rotation",
   "metadata": {
    "slideshow": {
     "slide_type": "slide"
    }
   },
   "source": [
    "<img src=\"imagenes/portada_video.png\" alt=\"nos vemos el martes\" style=\"width:1050px;\"/>\n"
   ]
  }
 ],
 "metadata": {
  "celltoolbar": "Slideshow",
  "kernelspec": {
   "display_name": "Python 3 (ipykernel)",
   "language": "python",
   "name": "python3"
  },
  "language_info": {
   "codemirror_mode": {
    "name": "ipython",
    "version": 3
   },
   "file_extension": ".py",
   "mimetype": "text/x-python",
   "name": "python",
   "nbconvert_exporter": "python",
   "pygments_lexer": "ipython3",
   "version": "3.11.2"
  }
 },
 "nbformat": 4,
 "nbformat_minor": 5
}
