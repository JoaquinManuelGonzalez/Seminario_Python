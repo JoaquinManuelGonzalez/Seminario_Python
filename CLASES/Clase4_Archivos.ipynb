{
 "cells": [
  {
   "cell_type": "markdown",
   "id": "younger-ready",
   "metadata": {
    "slideshow": {
     "slide_type": "slide"
    }
   },
   "source": [
    "### Seminario de Lenguajes - Python\n",
    "## Cursada 2023\n",
    "### Archivos. Formatos JSON y CSV"
   ]
  },
  {
   "cell_type": "markdown",
   "id": "tender-beijing",
   "metadata": {
    "slideshow": {
     "slide_type": "slide"
    }
   },
   "source": [
    "# Les dejé algo para investigar en el video del fin de semana.... "
   ]
  },
  {
   "cell_type": "markdown",
   "id": "special-outline",
   "metadata": {
    "slideshow": {
     "slide_type": "fragment"
    }
   },
   "source": [
    "## ¿Cuándo un módulo se denomina  \\_\\_main__?"
   ]
  },
  {
   "cell_type": "markdown",
   "id": "stopped-degree",
   "metadata": {
    "slideshow": {
     "slide_type": "subslide"
    }
   },
   "source": [
    "# Recordemos con este ejemplo cuál es la situación:\n",
    "\n",
    "\n",
    "```python\n",
    "\t#módulo funciones\n",
    "    def uno():\n",
    "        print(\"uno\")\n",
    "        print(f\"El nombre de este módulo es {__name__}\")\n",
    "\t#uno()\n",
    "    \n",
    "\t#uso_funciones\t\n",
    "\timport funciones\n",
    "    funciones.uno()\n",
    "\n",
    "```"
   ]
  },
  {
   "cell_type": "markdown",
   "id": "creative-mistress",
   "metadata": {
    "slideshow": {
     "slide_type": "subslide"
    }
   },
   "source": [
    "# El módulo \\_\\_main__\n",
    "\n",
    "- Las instrucciones ejecutadas en el nivel de llamadas superior del intérprete, ya sea desde un script o interactivamente, se consideran parte del módulo llamado **\\_\\_main__**, por lo tanto tienen su propio espacio de nombres global."
   ]
  },
  {
   "cell_type": "markdown",
   "id": "natural-channels",
   "metadata": {
    "slideshow": {
     "slide_type": "subslide"
    }
   },
   "source": [
    "```python\n",
    "#módulo funciones\n",
    "print(f\"El nombre de este módulo es {__name__}\")\n",
    "\n",
    "if __name__ == \"__main__\":\n",
    "    uno()\n",
    "```"
   ]
  },
  {
   "cell_type": "markdown",
   "id": "frank-department",
   "metadata": {
    "slideshow": {
     "slide_type": "subslide"
    }
   },
   "source": [
    "#  Veamos este otro ejemplo:"
   ]
  },
  {
   "cell_type": "markdown",
   "id": "sixth-public",
   "metadata": {
    "slideshow": {
     "slide_type": "fragment"
    }
   },
   "source": [
    "```python\n",
    "# modulo utiles\n",
    "def vocales(cadena):\n",
    "    print(list(filter(lambda l: l.lower() in \"aeiou\", cadena)))\n",
    "\n",
    "# modulo uso_utiles\n",
    "import utiles\n",
    "\n",
    "utiles.vocales(\"Holaaaa!!!!!!\")\n",
    "```"
   ]
  },
  {
   "cell_type": "markdown",
   "id": "rolled-virgin",
   "metadata": {
    "slideshow": {
     "slide_type": "fragment"
    }
   },
   "source": [
    "- Primero: ¿qué hace?"
   ]
  },
  {
   "cell_type": "markdown",
   "id": "korean-given",
   "metadata": {
    "slideshow": {
     "slide_type": "subslide"
    }
   },
   "source": [
    "###  ¿Y si queremos invocar el módulo utiles (e invocar a la función vocales) desde la línea de comandos?¿Cómo les pasamos la cadena a analizar?"
   ]
  },
  {
   "cell_type": "code",
   "execution_count": null,
   "id": "distributed-performer",
   "metadata": {
    "slideshow": {
     "slide_type": "fragment"
    }
   },
   "outputs": [],
   "source": [
    "import sys\n",
    "type(sys.argv)"
   ]
  },
  {
   "cell_type": "markdown",
   "id": "friendly-legislation",
   "metadata": {
    "slideshow": {
     "slide_type": "fragment"
    }
   },
   "source": [
    "- ¿De qué tipo es argv?\n",
    "- ¿Qué valores contiene?"
   ]
  },
  {
   "cell_type": "code",
   "execution_count": null,
   "id": "5fcc3301",
   "metadata": {
    "slideshow": {
     "slide_type": "fragment"
    }
   },
   "outputs": [],
   "source": [
    "sys.argv[0]"
   ]
  },
  {
   "cell_type": "markdown",
   "id": "encouraging-julian",
   "metadata": {
    "slideshow": {
     "slide_type": "subslide"
    }
   },
   "source": [
    "```python\n",
    "# modulo utiles\n",
    "def vocales(cadena):\n",
    "    print(list(filter(lambda l: l.lower() in \"aeiou\", cadena)))\n",
    "\n",
    "if __name__ == \"__main__\":\n",
    "    import sys\n",
    "    vocales(sys.argv[1])\n",
    "```"
   ]
  },
  {
   "cell_type": "markdown",
   "id": "finnish-country",
   "metadata": {
    "slideshow": {
     "slide_type": "slide"
    }
   },
   "source": [
    "# Pensemos en las siguientes situaciones\n",
    "\n",
    "¿Qué estructura usamos si queremos: \n",
    "\n",
    "-  guardar los puntajes cada vez que jugamos a un juego determinado?,\n",
    "-  tener un banco de preguntas para que cada vez que realizamos el repaso de clase pueda acotar por temas?,\n",
    "-  manipular los Python plus de los estudiantes por turnos?\n",
    "\n",
    "**¿Qué tienen todas estas situaciones en común?**\n"
   ]
  },
  {
   "cell_type": "markdown",
   "id": "visible-murder",
   "metadata": {
    "slideshow": {
     "slide_type": "subslide"
    }
   },
   "source": [
    "### <center> Necesitamos una estructura que permita que los datos puedan **persistir** cuando la ejecución del programa finalice</center>"
   ]
  },
  {
   "cell_type": "markdown",
   "id": "interim-people",
   "metadata": {
    "slideshow": {
     "slide_type": "subslide"
    }
   },
   "source": [
    "# Algunas consideraciones antes de empezar\n",
    "\n",
    "- Lo básico: ¿qué es  un **archivo**?\n",
    "- ¿Cómo podemos manipular los archivos desde un programa Python?"
   ]
  },
  {
   "cell_type": "markdown",
   "id": "positive-onion",
   "metadata": {
    "slideshow": {
     "slide_type": "subslide"
    }
   },
   "source": [
    "# Manejo de archivos\n",
    "\n",
    "- Existen funciones predefinidas.\n",
    "- Si las operaciones fallan, se levanta una **excepción**.\n",
    "- Los archivos se manejan como objetos que se crean usando la [función open](https://docs.python.org/3/library/functions.html#open)."
   ]
  },
  {
   "cell_type": "markdown",
   "id": "0f38bb1f",
   "metadata": {
    "slideshow": {
     "slide_type": "subslide"
    }
   },
   "source": [
    "# La función open\n",
    "\n",
    "(https://docs.python.org/3/library/functions.html#open).\n",
    "<center>\n",
    "<img src=\"imagenes/funcion_open.png\" alt=\"Actividad inicial\" style=\"width:600px;\"/>\n",
    "</center>"
   ]
  },
  {
   "cell_type": "markdown",
   "id": "ignored-currency",
   "metadata": {
    "slideshow": {
     "slide_type": "fragment"
    }
   },
   "source": [
    "**Tarea para el hogar**. Investigar: ¿qué diferencias hay entre un archivo de texto y uno binario?"
   ]
  },
  {
   "cell_type": "markdown",
   "id": "small-leadership",
   "metadata": {
    "slideshow": {
     "slide_type": "subslide"
    }
   },
   "source": [
    "# Veamos este ejemplo"
   ]
  },
  {
   "cell_type": "code",
   "execution_count": null,
   "id": "another-frontier",
   "metadata": {
    "slideshow": {
     "slide_type": "fragment"
    }
   },
   "outputs": [],
   "source": [
    "archi1 = open('archivo.txt', 'w')"
   ]
  },
  {
   "cell_type": "markdown",
   "id": "provincial-scale",
   "metadata": {
    "slideshow": {
     "slide_type": "fragment"
    }
   },
   "source": [
    "- ¿De qué modo se abre este archivo? ¿Qué significa?\n",
    "- Luego de la instrucción, ¿dónde se encuentra archivo.txt?\n",
    "- ¿Cuándo puede dar un error esta sentencia?"
   ]
  },
  {
   "cell_type": "markdown",
   "id": "dedicated-combining",
   "metadata": {
    "slideshow": {
     "slide_type": "subslide"
    }
   },
   "source": [
    "# ¿Y este otro ejemplo?"
   ]
  },
  {
   "cell_type": "code",
   "execution_count": null,
   "id": "other-server",
   "metadata": {
    "slideshow": {
     "slide_type": "fragment"
    }
   },
   "outputs": [],
   "source": [
    "archi2 = open('archivo.txt', 'x')"
   ]
  },
  {
   "cell_type": "markdown",
   "id": "established-angle",
   "metadata": {
    "slideshow": {
     "slide_type": "fragment"
    }
   },
   "source": [
    "- Y en este caso, ¿de qué modo se abre este archivo?\n",
    "- ¿Cuándo puede dar un error esta sentencia?"
   ]
  },
  {
   "cell_type": "markdown",
   "id": "assumed-dayton",
   "metadata": {
    "slideshow": {
     "slide_type": "subslide"
    }
   },
   "source": [
    "# ¿Y en este caso?"
   ]
  },
  {
   "cell_type": "code",
   "execution_count": null,
   "id": "ultimate-breathing",
   "metadata": {
    "slideshow": {
     "slide_type": "fragment"
    }
   },
   "outputs": [],
   "source": [
    "archi3 = open('archivo.txt')"
   ]
  },
  {
   "cell_type": "markdown",
   "id": "7ef08987",
   "metadata": {
    "slideshow": {
     "slide_type": "fragment"
    }
   },
   "source": [
    " ¿De qué modo se abre este archivo? ¿Da error el código?"
   ]
  },
  {
   "cell_type": "markdown",
   "id": "textile-audio",
   "metadata": {
    "slideshow": {
     "slide_type": "subslide"
    }
   },
   "source": [
    "- En realidad [la función open](https://docs.python.org/3/library/functions.html#open) tiene más argumentos:\n",
    "\n",
    "```python\n",
    "open(file, mode='r', buffering=-1, encoding=None, \n",
    "     errors=None, newline=None, closefd=True, opener=None)\n",
    "```\n",
    "- **encoding**: sólo para modo texto. Por defecto, la codificación establecida en las [configuraciones del sistema](https://docs.python.org/3.8/library/codecs.html#module-codecs) \n",
    "\n",
    "```python\n",
    "\tarchi = open(\"pp.xxx\", \"r+\", encoding=\"UTF-8\")\n",
    "```"
   ]
  },
  {
   "cell_type": "code",
   "execution_count": null,
   "id": "f6d20496",
   "metadata": {
    "slideshow": {
     "slide_type": "fragment"
    }
   },
   "outputs": [],
   "source": [
    "import locale\n",
    "locale.getlocale()"
   ]
  },
  {
   "cell_type": "markdown",
   "id": "c4ae0292",
   "metadata": {
    "slideshow": {
     "slide_type": "subslide"
    }
   },
   "source": [
    "## ¿Qué pasa si el archivo no está en la misma carpeta y tenemos que utilizar la ruta completa?"
   ]
  },
  {
   "cell_type": "code",
   "execution_count": null,
   "id": "f7349694",
   "metadata": {
    "slideshow": {
     "slide_type": "fragment"
    }
   },
   "outputs": [],
   "source": [
    "import os\n",
    "\n",
    "ruta = os.path.dirname(os.path.realpath(\".\"))\n",
    "ruta "
   ]
  },
  {
   "cell_type": "code",
   "execution_count": null,
   "id": "4e44b91a",
   "metadata": {
    "slideshow": {
     "slide_type": "fragment"
    }
   },
   "outputs": [],
   "source": [
    "ruta_completa = os.path.join(ruta, \"teorias\", \"ejemplos\",\"clase4\", \"archivo.txt\")\n",
    "ruta_completa"
   ]
  },
  {
   "cell_type": "markdown",
   "id": "e3c1b3b5",
   "metadata": {
    "slideshow": {
     "slide_type": "slide"
    }
   },
   "source": [
    "# ¿Cómo almacenamos datos en un archivo?\n",
    "- El caso más sencillo: guardanto texto en un archivo."
   ]
  },
  {
   "cell_type": "code",
   "execution_count": null,
   "id": "a553289f",
   "metadata": {
    "slideshow": {
     "slide_type": "fragment"
    }
   },
   "outputs": [],
   "source": [
    "f = open('archivo.txt', 'w')\n",
    "\n",
    "cad1 = \"De los pibes de Malvinas\"\n",
    "cad2 = \"Que jamás olvidaré.\"\n",
    "f.write(\"En Argentina nací\")\n",
    "f.write(\"Tierra del Diego y Lionel\")\n",
    "f.write(cad1)\n",
    "print(f.write(cad2))\n",
    "f.close()"
   ]
  },
  {
   "cell_type": "markdown",
   "id": "7dbdcc28",
   "metadata": {
    "slideshow": {
     "slide_type": "subslide"
    }
   },
   "source": [
    "- **write(cadena):** escribe *cadena* en el archivo y retorna cantidad de caracteres escritos.\n",
    "- **close():** cierra el archivo."
   ]
  },
  {
   "cell_type": "markdown",
   "id": "2cf4a3bc",
   "metadata": {
    "slideshow": {
     "slide_type": "subslide"
    }
   },
   "source": [
    "# ¿Cómo leemos los datos guardados?"
   ]
  },
  {
   "cell_type": "code",
   "execution_count": null,
   "id": "c223da11",
   "metadata": {
    "slideshow": {
     "slide_type": "fragment"
    }
   },
   "outputs": [],
   "source": [
    "f = open('archivo.txt', 'r')\n",
    "x = f.read(4)\n",
    "print(f.read())\n",
    "x"
   ]
  },
  {
   "cell_type": "markdown",
   "id": "6d8e18cf",
   "metadata": {
    "slideshow": {
     "slide_type": "fragment"
    }
   },
   "source": [
    "* **read(cantidad_bytes):** lee *cantidad_bytes* del archivo.\n",
    "* Si cantidad_bytes es <0 o no está, lee hasta fin de archivo.\n",
    "* Retorna \"\" si EOF."
   ]
  },
  {
   "cell_type": "markdown",
   "id": "0ddbb814",
   "metadata": {
    "slideshow": {
     "slide_type": "subslide"
    }
   },
   "source": [
    "- **Tarea**: probar el siguiente ejemplo que muestran otras formas de leer caracteres desde un archivo de texto."
   ]
  },
  {
   "cell_type": "code",
   "execution_count": null,
   "id": "c377b2fe",
   "metadata": {
    "slideshow": {
     "slide_type": "fragment"
    }
   },
   "outputs": [],
   "source": [
    "archi_muchachos = os.path.join(ruta, \"teorias\", \"ejemplos\",\"clase4\", \"muchachos.txt\")"
   ]
  },
  {
   "cell_type": "code",
   "execution_count": null,
   "id": "a14f36e3",
   "metadata": {
    "slideshow": {
     "slide_type": "fragment"
    }
   },
   "outputs": [],
   "source": [
    "def leo_caracteres():\n",
    "    f = open(archi_muchachos,\"r\")\n",
    "    for x in f.read():\n",
    "        print(x)\n",
    "    f.close()\n",
    "\n",
    "def leo_lineas():\n",
    "    f = open(archi_muchachos,\"r\")\n",
    "    print(f.readlines())\n",
    "    f.close()\n",
    "\n",
    "def otra_forma():\n",
    "    f = open(archi_muchachos,\"r\")\n",
    "    for linea in f:\n",
    "        print(linea)\n",
    "    f.close()"
   ]
  },
  {
   "cell_type": "code",
   "execution_count": null,
   "id": "010634d1",
   "metadata": {
    "slideshow": {
     "slide_type": "subslide"
    }
   },
   "outputs": [],
   "source": [
    "def main():\n",
    "    print('Leo caracteres')\n",
    "    leo_caracteres()\n",
    "    print('-' * 20)\n",
    "    print('Leo lineas')\n",
    "    leo_lineas()\n",
    "    print('-' * 20)\n",
    "    print('Otra forma')\n",
    "    otra_forma()\n",
    "\n",
    "\n",
    "if __name__ == \"__main__\":\n",
    "    otra_forma()"
   ]
  },
  {
   "cell_type": "markdown",
   "id": "355f35bd",
   "metadata": {
    "slideshow": {
     "slide_type": "slide"
    }
   },
   "source": [
    "# ¿Qué pasa si necesito guardar información que tiene una estructura?\n",
    "\n",
    "- Pensemos en estos ejemplos:\n",
    "\n",
    "\t- Los puntajes cada vez que juego a un juego. Información tipo: nombre jugador,  puntaje, fecha.\n",
    "\t- El banco de preguntas: tema, enunciado, respuesta correcta.\n",
    "\t- Los Python plus de los estudiantes por turnos: turno, nombre, apellido, num_legajo, cantidad_puntos, etc.\n",
    "\n",
    "- En estos casos también podría usar un archivo de texto: ¿cómo se les ocurre?\n"
   ]
  },
  {
   "cell_type": "markdown",
   "id": "d08ac1df",
   "metadata": {
    "slideshow": {
     "slide_type": "subslide"
    }
   },
   "source": [
    "# Algunas posibilidades\n",
    "\n",
    "```\n",
    "\t\n",
    "\t'equipo: BESTIA - esport: CSGO - pais: Argentina'\n",
    "\t\n",
    "\t---\n",
    "\tequipo:BESTIA\n",
    "\tesport:CSGO\n",
    "\tpais:Argentina\n",
    "\t---\n",
    "\n",
    "\t'BESTIA-CSGO-Argentina'\n",
    "\t\n",
    "\t'BESTIA*CSGO*Argentina*'\n",
    "\n",
    "```"
   ]
  },
  {
   "cell_type": "markdown",
   "id": "ba869115",
   "metadata": {
    "slideshow": {
     "slide_type": "fragment"
    }
   },
   "source": [
    "-  ¿Pros y contras?\t"
   ]
  },
  {
   "cell_type": "markdown",
   "id": "7c6872e2",
   "metadata": {
    "slideshow": {
     "slide_type": "subslide"
    }
   },
   "source": [
    "# Hay otras formas mejores..."
   ]
  },
  {
   "cell_type": "markdown",
   "id": "ef441bfa",
   "metadata": {
    "slideshow": {
     "slide_type": "slide"
    }
   },
   "source": [
    "# JSON (JavaScript Object Notation)\n",
    "\n",
    "- Es un formato de intercambio de datos muy popular. Por ejemplo:\n",
    "```\n",
    "\t{\"equipo\": \"BESTIA\",\n",
    "\t \"esport\": \"CSGO\",\n",
    "\t \"pais\": \"Argentina\"}\n",
    "    o \n",
    "    [{\"equipo\": \"BESTIA\",\n",
    "\t  \"esport\": \"CSGO\",\n",
    "\t  \"pais\": \"Argentina\"},\n",
    "      {\"equipo\": \"9z\",\n",
    "\t  \"esport\": \"CSGO\",\n",
    "\t  \"pais\": \"Argentina\"}]\n",
    "```\n",
    "- [+Info](https://www.json.org/json-en.html)"
   ]
  },
  {
   "cell_type": "markdown",
   "id": "f63b0c96",
   "metadata": {
    "slideshow": {
     "slide_type": "subslide"
    }
   },
   "source": [
    "- Veamos este ejemplo: https://developers.mercadolibre.com.ar/es_ar/categorias-y-publicaciones#close"
   ]
  },
  {
   "cell_type": "markdown",
   "id": "e613e581",
   "metadata": {
    "slideshow": {
     "slide_type": "subslide"
    }
   },
   "source": [
    "# Módulo json\n",
    "- Python tiene un módulo que permite trabajar con este formato.\n",
    "- Para usarlo, debemos importarlo."
   ]
  },
  {
   "cell_type": "code",
   "execution_count": null,
   "id": "155d57b0",
   "metadata": {
    "slideshow": {
     "slide_type": "fragment"
    }
   },
   "outputs": [],
   "source": [
    "import json"
   ]
  },
  {
   "cell_type": "markdown",
   "id": "04dc41ea",
   "metadata": {
    "slideshow": {
     "slide_type": "fragment"
    }
   },
   "source": [
    "- Permite serializar objetos.\n",
    "    - serializamos con: **dumps()** y **dump()**.\n",
    "    - deserializamos con: **loads()** y **load()**.\n",
    "- Más info en: https://docs.python.org/3/library/json.html\n"
   ]
  },
  {
   "cell_type": "markdown",
   "id": "ee9c90c7",
   "metadata": {
    "slideshow": {
     "slide_type": "subslide"
    }
   },
   "source": [
    "### Veamos este ejemplo\n",
    "-  Generamos un archivo con bandas de distintas ciudades:\n",
    "    - Tenemos: nombre de la banda, ciudad en la que se generó y una referencia a su trabajo. \n",
    "    - Empecemos por La Plata..."
   ]
  },
  {
   "cell_type": "code",
   "execution_count": null,
   "id": "a72a23bc",
   "metadata": {
    "slideshow": {
     "slide_type": "subslide"
    }
   },
   "outputs": [],
   "source": [
    "import json\n",
    "\n",
    "archivo = open(\"bandas.txt\", \"w\")\n",
    "datos = [\n",
    "    {\"nombre\": \"William Campbell\", \"ciudad\": \"La Plata\", \"ref\": \"www.instagram.com/williamcampbellok\"},\n",
    "    {\"nombre\": \"Buendia\", \"ciudad\": \"La Plata\", \"ref\":\"https://buendia.bandcamp.com/\"},\n",
    "    {\"nombre\": \"Lúmine\", \"ciudad\": \"La Plata\", \"ref\": \"https://www.instagram.com/luminelp/\"}]\n",
    "json.dump(datos, archivo)\n",
    "archivo.close()"
   ]
  },
  {
   "cell_type": "markdown",
   "id": "26288bc7",
   "metadata": {
    "slideshow": {
     "slide_type": "fragment"
    }
   },
   "source": [
    "- ¿De qué tipo es la variable **datos**?"
   ]
  },
  {
   "cell_type": "code",
   "execution_count": null,
   "id": "d740823a",
   "metadata": {
    "slideshow": {
     "slide_type": "subslide"
    }
   },
   "outputs": [],
   "source": [
    "# Ahora accedemos a los datos guardados\n",
    "import json\n",
    "\n",
    "archivo = open(\"bandas.txt\", \"r\")\n",
    "datos = json.load(archivo)\n",
    "print(datos)"
   ]
  },
  {
   "cell_type": "markdown",
   "id": "e37690e1",
   "metadata": {
    "slideshow": {
     "slide_type": "fragment"
    }
   },
   "source": [
    "- ¿De qué tipo de **datos**?"
   ]
  },
  {
   "cell_type": "code",
   "execution_count": null,
   "id": "14479618",
   "metadata": {
    "slideshow": {
     "slide_type": "subslide"
    }
   },
   "outputs": [],
   "source": [
    "datos_a_mostrar = json.dumps(datos, indent=4)\n",
    "print(datos_a_mostrar)\n",
    "archivo.close()"
   ]
  },
  {
   "cell_type": "markdown",
   "id": "e294c210",
   "metadata": {
    "slideshow": {
     "slide_type": "fragment"
    }
   },
   "source": [
    "- ¿De qué tipo es **datos_a_mostrar**?"
   ]
  },
  {
   "cell_type": "markdown",
   "id": "237fd0df",
   "metadata": {
    "slideshow": {
     "slide_type": "slide"
    }
   },
   "source": [
    "# CSV: ¿más formatos?\n",
    "\n",
    "\n",
    "- CSV (Comma Separated Values).\n",
    "- Es un formato muy común para importar/exportar desde/hacia hojas de cálculo y bases de datos.\n",
    "- Ejemplo:\n",
    "\n",
    "```\n",
    "nombre,ciudad,ref\n",
    "William Campbell,La Plata,www.instagram.com/williamcampbellok\n",
    "Buendia,La Plata,https://buendia.bandcamp.com/\n",
    "Lúmine,La Plata,https://www.instagram.com/luminelp/\n",
    "```\n",
    "- +Info: https://docs.python.org/3/library/csv.html\n",
    "- [PEP 305](https://www.python.org/dev/peps/pep-0305/)"
   ]
  },
  {
   "cell_type": "markdown",
   "id": "206ee347",
   "metadata": {
    "slideshow": {
     "slide_type": "subslide"
    }
   },
   "source": [
    "# Datasets\n",
    "\n",
    "- Hay muchos datasets disponibles de muchas temáticas:\n",
    "- Datos de gestión de gobiernos:\n",
    "    - Har un portal de datos de [Argentina](https://datos.gob.ar/dataset), de [CABA](https://data.buenosaires.gob.ar/), de [La Plata](https://catalogodatos.laplata.gob.ar/dataset)\n",
    "    - Datos del [Banco mundial](https://data.world/)\n",
    "    - Portal [Kagle](https://www.kaggle.com/)\n",
    "    - [IMDB](https://www.imdb.com/interfaces/)\n",
    "    - Y muchos más..."
   ]
  },
  {
   "cell_type": "markdown",
   "id": "6863fe7e",
   "metadata": {
    "slideshow": {
     "slide_type": "fragment"
    }
   },
   "source": [
    "- Muchos son datos abiertos, pero otros... no tanto...\n",
    " \n",
    "- ¡PRESTAR ATENCIÓN  a la licencias y requisitos para su uso!"
   ]
  },
  {
   "cell_type": "markdown",
   "id": "db344540",
   "metadata": {
    "slideshow": {
     "slide_type": "subslide"
    }
   },
   "source": [
    "#  ¿Qué vemos en netflix? \n",
    "\n",
    "Vamos a trabajar con el archivo: [netflix_titles.csv](https://www.kaggle.com/shivamb/netflix-shows)"
   ]
  },
  {
   "cell_type": "code",
   "execution_count": null,
   "id": "d7b45245",
   "metadata": {
    "slideshow": {
     "slide_type": "fragment"
    }
   },
   "outputs": [],
   "source": [
    "import csv\n",
    "\n",
    "ruta = os.path.dirname(os.path.realpath(\".\"))\n",
    "ruta_archivo = os.path.join(ruta, \"teorias\", \"ejemplos\",\"clase4\", \"netflix_titles.csv\")\n",
    "ruta_archivo"
   ]
  },
  {
   "cell_type": "code",
   "execution_count": null,
   "id": "d94c152d",
   "metadata": {
    "slideshow": {
     "slide_type": "fragment"
    }
   },
   "outputs": [],
   "source": [
    "archivo = open(ruta_archivo, \"r\")\n",
    "csvreader = csv.reader(archivo, delimiter=',')"
   ]
  },
  {
   "cell_type": "code",
   "execution_count": null,
   "id": "0781cfc4",
   "metadata": {
    "slideshow": {
     "slide_type": "subslide"
    }
   },
   "outputs": [],
   "source": [
    "#encabezado = csvreader.__next__()\n",
    "encabezado = next(csvreader)\n",
    "print(encabezado)"
   ]
  },
  {
   "cell_type": "code",
   "execution_count": null,
   "id": "f471eabb",
   "metadata": {
    "slideshow": {
     "slide_type": "fragment"
    }
   },
   "outputs": [],
   "source": [
    "archivo.close()"
   ]
  },
  {
   "cell_type": "markdown",
   "id": "c40e8692",
   "metadata": {
    "slideshow": {
     "slide_type": "subslide"
    }
   },
   "source": [
    "# El módulo csv\n",
    "\n",
    "- Hay que importarlo.\n",
    "- **csv.reader**: crea un objeto **iterador** que nos permite recorrer las líneas del archivo.\n",
    "- ¿Por qué incluimos el paŕametro **delimiter**? ¿[Dialectos](https://docs.python.org/3/library/csv.html#csv.Dialect)?\n",
    "\n",
    "\n",
    "```python\n",
    "     csvreader = csv.reader(archivo, delimiter=',')\n",
    "```"
   ]
  },
  {
   "cell_type": "markdown",
   "id": "99002825",
   "metadata": {
    "slideshow": {
     "slide_type": "subslide"
    }
   },
   "source": [
    "# ¿Qué películas argentinas vemos?"
   ]
  },
  {
   "cell_type": "code",
   "execution_count": null,
   "id": "08dcbcc4",
   "metadata": {
    "slideshow": {
     "slide_type": "fragment"
    }
   },
   "outputs": [],
   "source": [
    "archivo = open(ruta_archivo, \"r\")\n",
    "csvreader = csv.reader(archivo, delimiter=',')\n",
    "\n",
    "#encabezado = csvreader.__next__()\n",
    "encabezado = next(csvreader)\n",
    "print(encabezado)"
   ]
  },
  {
   "cell_type": "code",
   "execution_count": null,
   "id": "22dbe8c0",
   "metadata": {
    "slideshow": {
     "slide_type": "subslide"
    }
   },
   "outputs": [],
   "source": [
    "for linea in csvreader:\n",
    "    if linea[1] == \"Movie\" and linea[5] == \"Argentina\": \n",
    "        print(f\"{linea[2]:<40} {linea[3]}\")\n",
    "\n",
    "archivo.close()"
   ]
  },
  {
   "cell_type": "markdown",
   "id": "b3ee3ba5",
   "metadata": {
    "slideshow": {
     "slide_type": "subslide"
    }
   },
   "source": [
    "## ¿De qué tipo es línea?"
   ]
  },
  {
   "cell_type": "markdown",
   "id": "9a6fc4ed",
   "metadata": {
    "slideshow": {
     "slide_type": "subslide"
    }
   },
   "source": [
    "# Otra solución ..."
   ]
  },
  {
   "cell_type": "code",
   "execution_count": null,
   "id": "ee3e4469",
   "metadata": {
    "slideshow": {
     "slide_type": "fragment"
    }
   },
   "outputs": [],
   "source": [
    "archivo = open(ruta_archivo, \"r\")\n",
    "csvreader = csv.reader(archivo, delimiter=',')\n",
    "\n",
    "shows_ar = filter(lambda x:  x[5] == \"Argentina\" and x[1] == \"Movie\", csvreader)\n",
    "for elem in shows_ar:\n",
    "    print(f\"{elem[2]:<40} {elem[3]}\")\n",
    "    \n",
    "print(shows_ar)\n",
    "archivo.close()"
   ]
  },
  {
   "cell_type": "markdown",
   "id": "e5c52a84",
   "metadata": {
    "slideshow": {
     "slide_type": "subslide"
    }
   },
   "source": [
    "# Otra forma de acceder: csv.DictReader"
   ]
  },
  {
   "cell_type": "code",
   "execution_count": null,
   "id": "23eaa42d",
   "metadata": {
    "slideshow": {
     "slide_type": "fragment"
    }
   },
   "outputs": [],
   "source": [
    "archivo = open(ruta_archivo, \"r\")\n",
    "csvreader = csv.DictReader(archivo, delimiter=',')\n",
    "\n",
    "shows_ar = filter(lambda x:  x[\"country\"] == \"Argentina\" and x[\"type\"] == \"Movie\", csvreader)\n",
    "\n",
    "for linea in shows_ar:\n",
    "    print(linea[\"title\"])\n",
    "\n",
    "archivo.close()"
   ]
  },
  {
   "cell_type": "markdown",
   "id": "d790cdb4",
   "metadata": {
    "slideshow": {
     "slide_type": "subslide"
    }
   },
   "source": [
    "# Creamos nuestro archivo csv de bandas de música"
   ]
  },
  {
   "cell_type": "markdown",
   "id": "23506bd6",
   "metadata": {
    "slideshow": {
     "slide_type": "fragment"
    }
   },
   "source": [
    "- **csv.writer:** retorna un objeto que convierte los datos con los que trabajamos en el programa en cadenas con el formato delimitadas con el separador correspondiente. "
   ]
  },
  {
   "cell_type": "code",
   "execution_count": null,
   "id": "eadaedb2",
   "metadata": {
    "slideshow": {
     "slide_type": "fragment"
    }
   },
   "outputs": [],
   "source": [
    "import csv\n",
    "import json\n",
    "\n",
    "archivo = open(\"bandas.txt\")\n",
    "archivo_csv = open(\"bandas.csv\", \"w\")\n",
    "\n",
    "bandas = json.load(archivo)\n",
    "\n",
    "writer = csv.writer(archivo_csv)\n",
    "writer.writerow([\"Nombre\", \"Ciudad de procedencia\", \"Refencias\"])\n",
    "for banda in bandas:\n",
    "    writer.writerow([banda[\"nombre\"], banda[\"ciudad\"], banda[\"ref\"]])\n",
    "\n",
    "archivo.close()\n",
    "archivo_csv.close()"
   ]
  },
  {
   "cell_type": "markdown",
   "id": "dd2d8e83",
   "metadata": {
    "slideshow": {
     "slide_type": "subslide"
    }
   },
   "source": [
    "#  Lo leemos"
   ]
  },
  {
   "cell_type": "code",
   "execution_count": null,
   "id": "b488c219",
   "metadata": {
    "slideshow": {
     "slide_type": "fragment"
    }
   },
   "outputs": [],
   "source": [
    "archivo_cvs = open(\"bandas.csv\", \"r\")\n",
    "csvreader = csv.reader(archivo_cvs, delimiter=',')\n",
    "\n",
    "for linea in csvreader:\n",
    "    print(linea)\n",
    "\n",
    "archivo_csv.close()"
   ]
  },
  {
   "cell_type": "markdown",
   "id": "6afccd14",
   "metadata": {
    "slideshow": {
     "slide_type": "slide"
    }
   },
   "source": [
    "# La sentencia with\n",
    "\n",
    "La [sentencia with](https://docs.python.org/3/reference/compound_stmts.html#with) crea un objeto denominado **runtime context** o **contexto de tiempo de ejecución** que permite ejecutar un grupo de sentencias bajo el control de un **administrador de contexto** o **context manager**.\n",
    "¿Qué es esto? "
   ]
  },
  {
   "cell_type": "markdown",
   "id": "9227134f",
   "metadata": {
    "slideshow": {
     "slide_type": "fragment"
    }
   },
   "source": [
    "> Un administrador de contexto  permite asignar y liberar recursos  cuando se desee."
   ]
  },
  {
   "cell_type": "markdown",
   "id": "308f831c",
   "metadata": {
    "slideshow": {
     "slide_type": "fragment"
    }
   },
   "source": [
    "El ejemplo típico se da en  el acceso a arhivos, ya que son recursos externos a nuestros programas que requieren una gestión adecuada."
   ]
  },
  {
   "cell_type": "code",
   "execution_count": null,
   "id": "9c017722",
   "metadata": {
    "slideshow": {
     "slide_type": "subslide"
    }
   },
   "outputs": [],
   "source": [
    "with open(\"bandas.csv\") as archi_bandas:\n",
    "    csv_reader = csv.reader(archi_bandas, delimiter=',') \n",
    "    encabezado, data = next(csv_reader), list(csv_reader)\n",
    "    \n",
    "print(encabezado)\n",
    "for linea in data:\n",
    "    print(linea)"
   ]
  },
  {
   "cell_type": "markdown",
   "id": "746bde4c",
   "metadata": {
    "slideshow": {
     "slide_type": "fragment"
    }
   },
   "source": [
    "¿Dónde se cierra el archivo?"
   ]
  },
  {
   "cell_type": "markdown",
   "id": "23fe5b83",
   "metadata": {
    "slideshow": {
     "slide_type": "slide"
    }
   },
   "source": [
    "# Desafío \n",
    "\n",
    "- Dado el conjunto de datos con series y películas de Netflix, queremos:\n",
    "\n",
    "    1- guardar en otro archivo, en formato json, las peliculas  realizadas por más de un país. \n",
    "\n",
    "    2- los cinco (5) países con más producciones en Netflix, durante el año 2019.\n"
   ]
  },
  {
   "cell_type": "markdown",
   "id": "81149d76",
   "metadata": {
    "slideshow": {
     "slide_type": "slide"
    }
   },
   "source": [
    "# Actividad 1 por Python plus\n",
    "\n",
    "### Veamos en qué consiste ..."
   ]
  }
 ],
 "metadata": {
  "celltoolbar": "Slideshow",
  "kernelspec": {
   "display_name": "Python 3 (ipykernel)",
   "language": "python",
   "name": "python3"
  },
  "language_info": {
   "codemirror_mode": {
    "name": "ipython",
    "version": 3
   },
   "file_extension": ".py",
   "mimetype": "text/x-python",
   "name": "python",
   "nbconvert_exporter": "python",
   "pygments_lexer": "ipython3",
   "version": "3.11.2"
  }
 },
 "nbformat": 4,
 "nbformat_minor": 5
}
