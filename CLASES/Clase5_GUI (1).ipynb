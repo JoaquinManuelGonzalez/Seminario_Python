{
 "cells": [
  {
   "cell_type": "markdown",
   "id": "younger-ready",
   "metadata": {
    "slideshow": {
     "slide_type": "slide"
    }
   },
   "source": [
    "# Seminario de Lenguajes - Python\n",
    "## Cursada 2023\n",
    "### Clase 5: GUI"
   ]
  },
  {
   "cell_type": "markdown",
   "id": "apparent-asset",
   "metadata": {
    "slideshow": {
     "slide_type": "slide"
    }
   },
   "source": [
    "# ¿Saben qué son las GUI?"
   ]
  },
  {
   "cell_type": "markdown",
   "id": "advance-direction",
   "metadata": {
    "slideshow": {
     "slide_type": "fragment"
    }
   },
   "source": [
    "## GUI: Graphical User Interface"
   ]
  },
  {
   "cell_type": "markdown",
   "id": "further-chase",
   "metadata": {
    "slideshow": {
     "slide_type": "subslide"
    }
   },
   "source": [
    "<center>\n",
    "<img src=\"imagenes/SimpleGUI_todo.png\" alt=\"simpleGUI\" style=\"width:550px;\"/>\n",
    "</center>"
   ]
  },
  {
   "cell_type": "markdown",
   "id": "changed-toner",
   "metadata": {
    "slideshow": {
     "slide_type": "subslide"
    }
   },
   "source": [
    "\n",
    "# GUI en Python\n",
    "\n",
    "- Vamos a usar [PySimpleGUI](https://pysimplegui.readthedocs.io/en/latest/)\n",
    "\n",
    "- Es un **framework** bastante simple para desarrollar interfaces gráficas en Python.\n",
    "- Es software libre:  https://github.com/PySimpleGUI/PySimpleGUI\n",
    "- Se instala con pip: **pip install pysimplegui**\n",
    "\n",
    "- Vamos a ir de a poco...\n",
    "- Más info en: https://pysimplegui.readthedocs.io/en/latest/cookbook/\n",
    "- También en https://realpython.com/pysimplegui-python/\n",
    "\n",
    "\n"
   ]
  },
  {
   "cell_type": "markdown",
   "id": "spoken-fiction",
   "metadata": {
    "slideshow": {
     "slide_type": "subslide"
    }
   },
   "source": [
    "# ¿Con qué elementos podemos trabajar?\n",
    "<center>\n",
    "<img src=\"imagenes/SimpleGUI_todoElementos.png\" alt=\"Elementos de PYSimpleGUI\" style=\"width:850px;\"/>\n",
    "</center>"
   ]
  },
  {
   "cell_type": "markdown",
   "id": "scenic-paintball",
   "metadata": {
    "slideshow": {
     "slide_type": "subslide"
    }
   },
   "source": [
    "# Popups: las ventanas más sencillas"
   ]
  },
  {
   "cell_type": "code",
   "execution_count": 1,
   "id": "sound-desire",
   "metadata": {
    "slideshow": {
     "slide_type": "fragment"
    }
   },
   "outputs": [
    {
     "data": {
      "text/plain": [
       "'OK'"
      ]
     },
     "execution_count": 1,
     "metadata": {},
     "output_type": "execute_result"
    }
   ],
   "source": [
    "import PySimpleGUI as sg      \n",
    "sg.Popup('Mi primera ventanita')"
   ]
  },
  {
   "cell_type": "markdown",
   "id": "combined-sapphire",
   "metadata": {
    "slideshow": {
     "slide_type": "fragment"
    }
   },
   "source": [
    "- **import PySimpleGUI as sg**, permite acceder a los recursos por  el nombre **sg**."
   ]
  },
  {
   "cell_type": "code",
   "execution_count": null,
   "id": "lucky-resort",
   "metadata": {
    "slideshow": {
     "slide_type": "fragment"
    }
   },
   "outputs": [],
   "source": [
    "import PySimpleGUI as sg      \n",
    "\n",
    "sg.Popup('Mi  primera ventanita popup', button_color=('black', 'red'))\n",
    "\n",
    "sg.PopupYesNo('Mi  primera ventanita yes/no', button_color=('black', 'green'))\n",
    "\n",
    "sg.PopupOKCancel('Mi  primera ventanita ok/cancel', button_color=('black', 'grey'))\n",
    "\n",
    "texto = sg.PopupGetText('Titulo', 'Ingresá un texto acá ...')      \n",
    "sg.Popup('Resultados', 'Ingresaste el siguiente texto: ', texto)"
   ]
  },
  {
   "cell_type": "markdown",
   "id": "informational-hamburg",
   "metadata": {
    "slideshow": {
     "slide_type": "subslide"
    }
   },
   "source": [
    "# Creamos una ventana en PySimpleGUI"
   ]
  },
  {
   "cell_type": "code",
   "execution_count": 4,
   "id": "concrete-console",
   "metadata": {
    "slideshow": {
     "slide_type": "fragment"
    }
   },
   "outputs": [
    {
     "data": {
      "text/plain": [
       "(None, [])"
      ]
     },
     "execution_count": 4,
     "metadata": {},
     "output_type": "execute_result"
    }
   ],
   "source": [
    "import PySimpleGUI as sg\n",
    "\n",
    "sg.Window(title=\"Hola Mundo!\", layout=[[]], margins=(300, 350)).read()"
   ]
  },
  {
   "cell_type": "markdown",
   "id": "descending-kidney",
   "metadata": {
    "slideshow": {
     "slide_type": "fragment"
    }
   },
   "source": [
    "- **margins**: tamaño de la ventana en pixeles.\n",
    "- **read()**: devuelve una **tupla** con un **evento** y **los valores** de todos los elementos de entrada en la ventana."
   ]
  },
  {
   "cell_type": "markdown",
   "id": "rolled-fisher",
   "metadata": {
    "slideshow": {
     "slide_type": "subslide"
    }
   },
   "source": [
    "# Sobre los eventos"
   ]
  },
  {
   "cell_type": "code",
   "execution_count": 5,
   "id": "naval-violence",
   "metadata": {
    "slideshow": {
     "slide_type": "fragment"
    }
   },
   "outputs": [],
   "source": [
    "import PySimpleGUI as sg      \n",
    "\n",
    "layout = [[sg.Text(\"Hola Mundo!\")], [sg.Button(\"OK\")]]\n",
    "\n",
    "window = sg.Window(\"Manejo de eventos\", layout, margins=(200, 150))\n",
    "\n",
    "while True:\n",
    "    event, values = window.read()\n",
    "\n",
    "    if event == \"OK\" or event == sg.WIN_CLOSED:\n",
    "        break\n",
    "\n",
    "window.close()"
   ]
  },
  {
   "cell_type": "markdown",
   "id": "c959c6ab",
   "metadata": {
    "slideshow": {
     "slide_type": "fragment"
    }
   },
   "source": [
    "- ¿Qué representa **sg.WIN_CLOSED**?\n",
    "- ¿Cuándo termina este programa?"
   ]
  },
  {
   "cell_type": "markdown",
   "id": "compact-bandwidth",
   "metadata": {
    "slideshow": {
     "slide_type": "subslide"
    }
   },
   "source": [
    "#  ¿Cómo recuperamos los valores ingresados?"
   ]
  },
  {
   "cell_type": "code",
   "execution_count": 7,
   "id": "demanding-account",
   "metadata": {
    "slideshow": {
     "slide_type": "fragment"
    }
   },
   "outputs": [
    {
     "ename": "TypeError",
     "evalue": "string indices must be integers, not 'str'",
     "output_type": "error",
     "traceback": [
      "\u001b[1;31m---------------------------------------------------------------------------\u001b[0m",
      "\u001b[1;31mTypeError\u001b[0m                                 Traceback (most recent call last)",
      "Cell \u001b[1;32mIn[7], line 14\u001b[0m\n\u001b[0;32m     12\u001b[0m     \u001b[39mif\u001b[39;00m event \u001b[39m==\u001b[39m \u001b[39m\"\u001b[39m\u001b[39mCancel\u001b[39m\u001b[39m\"\u001b[39m \u001b[39mor\u001b[39;00m event \u001b[39m==\u001b[39m sg\u001b[39m.\u001b[39mWIN_CLOSED:\n\u001b[0;32m     13\u001b[0m         \u001b[39mbreak\u001b[39;00m\n\u001b[1;32m---> 14\u001b[0m     \u001b[39mprint\u001b[39m(\u001b[39m'\u001b[39m\u001b[39mDatos ingresados: \u001b[39m\u001b[39m'\u001b[39m, event[\u001b[39m'\u001b[39;49m\u001b[39mIngresá primer valor\u001b[39;49m\u001b[39m'\u001b[39;49m])\n\u001b[0;32m     16\u001b[0m window\u001b[39m.\u001b[39mclose()\n",
      "\u001b[1;31mTypeError\u001b[0m: string indices must be integers, not 'str'"
     ]
    },
    {
     "ename": "",
     "evalue": "",
     "output_type": "error",
     "traceback": [
      "\u001b[1;31mEl Kernel se bloqueó al ejecutar código en la celda actual o en una celda anterior. Revise el código de las celdas para identificar una posible causa del error. Haga clic <a href='https://aka.ms/vscodeJupyterKernelCrash'>aquí</a> para obtener más información. Vea el [registro] de Jupyter (command:jupyter.viewOutput) para obtener más detalles."
     ]
    }
   ],
   "source": [
    "import PySimpleGUI as sg\n",
    "\n",
    "layout = [ [sg.Text('Ingresá primer valor'), sg.InputText()],\n",
    "           [sg.Text('Ingresá segundo valor'), sg.InputText()],\n",
    "           [sg.Button('Ok'), sg.Button('Cancel')] ]\n",
    "\n",
    "window = sg.Window(\"Segunda Demo\", layout, margins=(200, 150))\n",
    "\n",
    "while True:\n",
    "    event, values = window.read()\n",
    "\n",
    "    if event == \"Cancel\" or event == sg.WIN_CLOSED:\n",
    "        break\n",
    "    print('Datos ingresados: ', values)\n",
    "\n",
    "window.close()"
   ]
  },
  {
   "cell_type": "markdown",
   "id": "fb860c6c",
   "metadata": {
    "slideshow": {
     "slide_type": "fragment"
    }
   },
   "source": [
    "- ¿De qué tipo es **values**?¿Dónde se muestran los datos ingresados?"
   ]
  },
  {
   "cell_type": "markdown",
   "id": "occupied-calculation",
   "metadata": {
    "slideshow": {
     "slide_type": "subslide"
    }
   },
   "source": [
    "# Layout: ¿cómo organizamos la UI?\n",
    "\n",
    "\n",
    "Representa al esquema  o  diseño de nuestra UI: **cómo se distribuyen los elementos en la UI**.\n"
   ]
  },
  {
   "cell_type": "code",
   "execution_count": null,
   "id": "committed-penetration",
   "metadata": {
    "slideshow": {
     "slide_type": "fragment"
    }
   },
   "outputs": [],
   "source": [
    "layout = [ [sg.Text('Ingresá primer valor'), sg.InputText()],\n",
    "           [sg.Text('Ingresá segundo valor'), sg.InputText()],\n",
    "           [sg.Button('Ok'), sg.Button('Cancel')] ]"
   ]
  },
  {
   "cell_type": "markdown",
   "id": "bulgarian-doctor",
   "metadata": {
    "slideshow": {
     "slide_type": "fragment"
    }
   },
   "source": [
    "- ¿De qué tipo es la variable layout?\n",
    "- ¿Qué elementos estamos incluyendo?\n",
    "\n",
    "**Tarea:** agregar un elemento nuevo donde se muestren los valores ingresados. "
   ]
  },
  {
   "cell_type": "markdown",
   "id": "through-kinase",
   "metadata": {
    "slideshow": {
     "slide_type": "subslide"
    }
   },
   "source": [
    "\n",
    "# Elementos de la UI\n",
    "\n",
    "- Acá van algunos disponibles en PySimpleGUI\n",
    "\n",
    "\t- Buttons: File Browse, Folder Browse, Color chooser, Date picker, etc.\n",
    "\t- Checkbox, Radio Button, Listbox    \n",
    "\t- Slider, Progress Bar \n",
    "\t- Multi-line Text Input, Scroll-able Output  \n",
    "\t- Image, Menu, Frame, Column, Graph, Table\n",
    "\n",
    "- Referencias: https://pysimplegui.readthedocs.io/en/latest/call%20reference/#element-and-function-call-reference"
   ]
  },
  {
   "cell_type": "markdown",
   "id": "certain-battle",
   "metadata": {
    "slideshow": {
     "slide_type": "subslide"
    }
   },
   "source": [
    "# Agreguemos elementos a nuestra ventana"
   ]
  },
  {
   "cell_type": "code",
   "execution_count": null,
   "id": "appreciated-hindu",
   "metadata": {
    "slideshow": {
     "slide_type": "fragment"
    }
   },
   "outputs": [],
   "source": [
    "import PySimpleGUI as sg      \n",
    "\n",
    "layout = [[sg.Input('Ingresa algo')], \n",
    "          [sg.Listbox(values=('Item 1', 'Item 2', 'Item 3'))],   \n",
    "          [sg.OK()]] \n",
    "\n",
    "sg.Window(\"Elementos básicos\", layout, margins=(200, 150)).read()\n",
    "\n",
    " \n"
   ]
  },
  {
   "cell_type": "code",
   "execution_count": null,
   "id": "dental-praise",
   "metadata": {
    "slideshow": {
     "slide_type": "subslide"
    }
   },
   "outputs": [],
   "source": [
    "sg.ChangeLookAndFeel('DarkAmber')      \n",
    "\n",
    "layout = [[sg.Listbox(values=('Item 1', 'Item 2', 'Item 3'), background_color='yellow', size=(20,3)),\n",
    "          [sg.Input('Last input')],\n",
    "          [sg.ColorChooserButton(\"  Elegi color\")],\n",
    "          [sg.OK()]] ]\n",
    "sg.Window(\"Más elementos \", layout, margins=(200, 150)).read()\n"
   ]
  },
  {
   "cell_type": "markdown",
   "id": "varying-number",
   "metadata": {
    "slideshow": {
     "slide_type": "subslide"
    }
   },
   "source": [
    "\n",
    "# PySimpleGUI en GitHub\n",
    "\n",
    "\n",
    "* En [GitHub](https://github.com/PySimpleGUI)  hay mucha información y referencias útiles.\n",
    "* Por ejemplo, hay [varios ejemplos](https://github.com/PySimpleGUI/PySimpleGUI/tree/master/DemoPrograms) que pueden servir de base para nuestros desarrollos.\n",
    "- Probemos el [visualizador de csv](ejemplos/clase5/GUI/demo3.py)\n",
    "                             "
   ]
  },
  {
   "cell_type": "markdown",
   "id": "internal-serve",
   "metadata": {
    "slideshow": {
     "slide_type": "fragment"
    }
   },
   "source": [
    "## <center>¡¡Las ventajas del software libre!!</center>"
   ]
  },
  {
   "cell_type": "markdown",
   "id": "e78bf12b",
   "metadata": {
    "slideshow": {
     "slide_type": "subslide"
    }
   },
   "source": [
    "# Hablemos de la Actividad 1 ..."
   ]
  },
  {
   "cell_type": "markdown",
   "id": "ca2841d5",
   "metadata": {
    "slideshow": {
     "slide_type": "slide"
    }
   },
   "source": [
    "#  Seguimos la próxima ..."
   ]
  }
 ],
 "metadata": {
  "celltoolbar": "Slideshow",
  "kernelspec": {
   "display_name": "Python 3 (ipykernel)",
   "language": "python",
   "name": "python3"
  },
  "language_info": {
   "codemirror_mode": {
    "name": "ipython",
    "version": 3
   },
   "file_extension": ".py",
   "mimetype": "text/x-python",
   "name": "python",
   "nbconvert_exporter": "python",
   "pygments_lexer": "ipython3",
   "version": "3.11.3"
  }
 },
 "nbformat": 4,
 "nbformat_minor": 5
}
