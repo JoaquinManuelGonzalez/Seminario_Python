{
 "cells": [
  {
   "cell_type": "markdown",
   "id": "mobile-stanford",
   "metadata": {
    "slideshow": {
     "slide_type": "slide"
    }
   },
   "source": [
    "# Seminario de Lenguajes - Python\n",
    "## Conjuntos en Python"
   ]
  },
  {
   "cell_type": "markdown",
   "id": "dutch-heart",
   "metadata": {
    "slideshow": {
     "slide_type": "subslide"
    }
   },
   "source": [
    "# Conjuntos en Python\n",
    "\n",
    "- Un conjunto es una colección de datos heterogéna, **desordenada**, **NO indexada** y **sin elementos duplicados**."
   ]
  },
  {
   "cell_type": "code",
   "execution_count": null,
   "id": "hindu-phone",
   "metadata": {
    "slideshow": {
     "slide_type": "subslide"
    }
   },
   "outputs": [],
   "source": [
    "bandas = {\"AC/DC\", \"Metallica\", \"Greta Van Fleet\", \"Soda Stéreo\", \"Los Piojos\"}\n",
    "type(bandas)"
   ]
  },
  {
   "cell_type": "code",
   "execution_count": null,
   "id": "secure-university",
   "metadata": {
    "slideshow": {
     "slide_type": "fragment"
    }
   },
   "outputs": [],
   "source": [
    "bandas_nacionales = set((\"Soda Stéreo\", \"La Renga\"))\n",
    "bandas_nacionales"
   ]
  },
  {
   "cell_type": "code",
   "execution_count": null,
   "id": "8a4ced5f",
   "metadata": {
    "slideshow": {
     "slide_type": "fragment"
    }
   },
   "outputs": [],
   "source": [
    "bandas_internacionales = set([\"Greta Van Fleet\", \"Led Zeppelin\"])\n",
    "bandas_internacionales"
   ]
  },
  {
   "cell_type": "code",
   "execution_count": null,
   "id": "welcome-combine",
   "metadata": {
    "slideshow": {
     "slide_type": "fragment"
    }
   },
   "outputs": [],
   "source": [
    "letras = set(\"alabanza\")\n",
    "letras"
   ]
  },
  {
   "cell_type": "markdown",
   "id": "isolated-christopher",
   "metadata": {
    "slideshow": {
     "slide_type": "subslide"
    }
   },
   "source": [
    "# No confundir\n"
   ]
  },
  {
   "cell_type": "code",
   "execution_count": null,
   "id": "broad-trail",
   "metadata": {
    "slideshow": {
     "slide_type": "fragment"
    }
   },
   "outputs": [],
   "source": [
    "dicci = {}\n",
    "conjunto = set()\n",
    "\n",
    "type(dicci)"
   ]
  },
  {
   "cell_type": "code",
   "execution_count": null,
   "id": "cardiovascular-sound",
   "metadata": {},
   "outputs": [],
   "source": [
    "c1 = {'alabanza'}\n",
    "c2 = set('alabanza')\n",
    "print(c1)\n",
    "print(c2)"
   ]
  },
  {
   "cell_type": "markdown",
   "id": "tough-clear",
   "metadata": {
    "slideshow": {
     "slide_type": "subslide"
    }
   },
   "source": [
    "# ¿Cómo recorremos un conjunto?"
   ]
  },
  {
   "cell_type": "code",
   "execution_count": null,
   "id": "proprietary-observer",
   "metadata": {
    "slideshow": {
     "slide_type": "fragment"
    }
   },
   "outputs": [],
   "source": [
    "bandas = {\"AC/DC\", \"Metallica\", \"Greta Van Fleet\", \"Soda Stéreo\", \"Los Piojos\"}\n",
    "\n",
    "for elem in bandas:\n",
    "    print(elem)"
   ]
  },
  {
   "cell_type": "markdown",
   "id": "descending-scenario",
   "metadata": {
    "slideshow": {
     "slide_type": "subslide"
    }
   },
   "source": [
    "# Y, ¿cómo sabemos la cantidad de elementos de un conjunto?"
   ]
  },
  {
   "cell_type": "code",
   "execution_count": null,
   "id": "together-detroit",
   "metadata": {
    "slideshow": {
     "slide_type": "fragment"
    }
   },
   "outputs": [],
   "source": [
    "len(bandas)"
   ]
  },
  {
   "cell_type": "code",
   "execution_count": null,
   "id": "4c446d68",
   "metadata": {
    "slideshow": {
     "slide_type": "fragment"
    }
   },
   "outputs": [],
   "source": [
    "c2 = set('alabanzas')\n",
    "len(c2)"
   ]
  },
  {
   "cell_type": "markdown",
   "id": "accomplished-change",
   "metadata": {
    "slideshow": {
     "slide_type": "subslide"
    }
   },
   "source": [
    "# Operaciones con conjuntos\n",
    "\n",
    "- Pensemos en las operaciones matemáticas sobre conjuntos: \n",
    "    - **in**: retonar si un elemento pertenece o no a un conjunto.\n",
    "    - **|**: unión entre dos conjuntos.\n",
    "    - **&**: intersección entre dos conjuntos. \n",
    "    - **-**: diferencia de conjuntos.\n"
   ]
  },
  {
   "cell_type": "code",
   "execution_count": null,
   "id": "expensive-lewis",
   "metadata": {
    "slideshow": {
     "slide_type": "subslide"
    }
   },
   "outputs": [],
   "source": [
    "bandas = {\"AC/DC\", \"Metallica\", \"Greta Van Fleet\", \"Soda Stéreo\", \"Los Piojos\"}\n",
    "bandas_nacionales = set((\"Soda Stéreo\", \"La Renga\", \"Los Piojos\"))"
   ]
  },
  {
   "cell_type": "code",
   "execution_count": null,
   "id": "0be08cd0",
   "metadata": {
    "slideshow": {
     "slide_type": "fragment"
    }
   },
   "outputs": [],
   "source": [
    "print(\"Los Piojos\" in bandas)"
   ]
  },
  {
   "cell_type": "code",
   "execution_count": null,
   "id": "9591bc0d",
   "metadata": {
    "slideshow": {
     "slide_type": "fragment"
    }
   },
   "outputs": [],
   "source": [
    "todos = bandas | bandas_nacionales\n",
    "print(f\"Todas las bandas: {todos}\")\n",
    "\n",
    "en_ambos = bandas & bandas_nacionales\n",
    "print(f\"En ambos conjuntos: {en_ambos}\")\n",
    "\n",
    "internacionales = bandas - bandas_nacionales\n",
    "print(f\"No son nacionales: {internacionales}\")"
   ]
  },
  {
   "cell_type": "markdown",
   "id": "artificial-integer",
   "metadata": {
    "slideshow": {
     "slide_type": "subslide"
    }
   },
   "source": [
    "# También hay métodos  que se pueden utilizar\n",
    "\n",
    "- Para copiar conjuntos podemos usar la sentencia de asignación o usando **copy()**."
   ]
  },
  {
   "cell_type": "code",
   "execution_count": null,
   "id": "educational-beaver",
   "metadata": {
    "slideshow": {
     "slide_type": "fragment"
    }
   },
   "outputs": [],
   "source": [
    "bandas = {\"AC/DC\", \"Metallica\", \"Greta Van Fleet\", \"Soda Stéreo\", \"Los Piojos\"}\n",
    "bandas_nacionales = set((\"Soda Stéreo\", \"La Renga\", \"Los Piojos\"))\n",
    "\n",
    "#mis_bandas = bandas\n",
    "mis_bandas = bandas.copy()\n",
    "print(id(mis_bandas))\n",
    "print(id(bandas))"
   ]
  },
  {
   "cell_type": "markdown",
   "id": "05ea5be5",
   "metadata": {
    "slideshow": {
     "slide_type": "subslide"
    }
   },
   "source": [
    "- Se puede adicionar un elemento con **add()**."
   ]
  },
  {
   "cell_type": "code",
   "execution_count": null,
   "id": "f9cfd7a5",
   "metadata": {
    "slideshow": {
     "slide_type": "fragment"
    }
   },
   "outputs": [],
   "source": [
    "bandas.add(\"Foo Fighters\")\n",
    "print(bandas)"
   ]
  },
  {
   "cell_type": "markdown",
   "id": "positive-pathology",
   "metadata": {
    "slideshow": {
     "slide_type": "subslide"
    }
   },
   "source": [
    "# Probar en casa otros métodos\n",
    "\n",
    "- issubset(), isdisjoint(), issuperset(), update(), discard(), remove()\n",
    "- [+ Info en Real Python](https://realpython.com/python-sets/)\n",
    "- [+ Info en w3schools](https://www.w3schools.com/python/python_sets.asp)\n",
    "- [+ Info en el sitio oficial](https://docs.python.org/3/c-api/set.html)"
   ]
  },
  {
   "cell_type": "markdown",
   "id": "ideal-rotation",
   "metadata": {
    "slideshow": {
     "slide_type": "slide"
    }
   },
   "source": [
    "<img src=\"imagenes/portada_video.png\" alt=\"nos vemos el martes\" style=\"width:1050px;\"/>\n"
   ]
  }
 ],
 "metadata": {
  "celltoolbar": "Slideshow",
  "kernelspec": {
   "display_name": "Python 3 (ipykernel)",
   "language": "python",
   "name": "python3"
  },
  "language_info": {
   "codemirror_mode": {
    "name": "ipython",
    "version": 3
   },
   "file_extension": ".py",
   "mimetype": "text/x-python",
   "name": "python",
   "nbconvert_exporter": "python",
   "pygments_lexer": "ipython3",
   "version": "3.11.2"
  }
 },
 "nbformat": 4,
 "nbformat_minor": 5
}
