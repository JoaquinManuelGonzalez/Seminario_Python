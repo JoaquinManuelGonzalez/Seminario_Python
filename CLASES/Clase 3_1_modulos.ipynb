{
 "cells": [
  {
   "cell_type": "markdown",
   "id": "breathing-productivity",
   "metadata": {
    "slideshow": {
     "slide_type": "slide"
    }
   },
   "source": [
    "### Seminario de Lenguajes - Python\n",
    "### Módulos en Python "
   ]
  },
  {
   "cell_type": "markdown",
   "id": "extended-addiction",
   "metadata": {
    "slideshow": {
     "slide_type": "slide"
    }
   },
   "source": [
    "# <center> Un módulo es un archivo (con extensión .py)  que contiene sentencias y definiciones</center>\n",
    "<center> \n",
    "<img src=\"imagenes/modulos.png\" alt=\"Actividad inicial\" style=\"width:850px;\"/>\n",
    "</center>\n"
   ]
  },
  {
   "cell_type": "markdown",
   "id": "processed-canada",
   "metadata": {
    "slideshow": {
     "slide_type": "fragment"
    }
   },
   "source": [
    "##### <center>¿Algo nuevo?</center> "
   ]
  },
  {
   "cell_type": "markdown",
   "id": "usual-welsh",
   "metadata": {
    "slideshow": {
     "slide_type": "subslide"
    }
   },
   "source": [
    "#  Analicemos un ejemplo en el IDE\n",
    "\n",
    "- ¿Cuántos archivos forman mi programa?\n",
    "- ¿Cómo se relacionan?\n",
    "<img src=\"imagenes/sentencia_import.png\" alt=\"Actividad inicial\" style=\"width:750px;\"/>\n"
   ]
  },
  {
   "cell_type": "markdown",
   "id": "facial-somerset",
   "metadata": {
    "slideshow": {
     "slide_type": "subslide"
    }
   },
   "source": [
    "# La sentencia import\n",
    "\n",
    "- Permite acceder a funciones y variables definidas en otro módulo."
   ]
  },
  {
   "cell_type": "code",
   "execution_count": null,
   "id": "superb-crown",
   "metadata": {
    "slideshow": {
     "slide_type": "fragment"
    }
   },
   "outputs": [],
   "source": [
    "import random"
   ]
  },
  {
   "cell_type": "markdown",
   "id": "convertible-registrar",
   "metadata": {
    "slideshow": {
     "slide_type": "fragment"
    }
   },
   "source": [
    "- Sólo se importa las definiciones de las funciones. No las ejecuta.\n",
    "- Para ejecutar una función **debo invocarla en forma explícita**."
   ]
  },
  {
   "cell_type": "code",
   "execution_count": null,
   "id": "substantial-penalty",
   "metadata": {
    "slideshow": {
     "slide_type": "fragment"
    }
   },
   "outputs": [],
   "source": [
    "random.randrange(10)"
   ]
  },
  {
   "cell_type": "markdown",
   "id": "stunning-coverage",
   "metadata": {
    "slideshow": {
     "slide_type": "slide"
    }
   },
   "source": [
    "# ¿Qué son los archivos .pyc?\n",
    "- [+Info en el sitio oficial](https://docs.python.org/es/3/tutorial/modules.html#compiled-python-files), o podemos leer la [PEP 3147](https://www.python.org/dev/peps/pep-3147/)\n",
    "\n",
    "- **Afecta solo la velocidad de carga del archivo:** *\"un programa no se ejecuta más rápido cuando es leído de un archivo .pyc que cuando es leído de un archivo .py\"*\n"
   ]
  },
  {
   "cell_type": "markdown",
   "id": "81eb3ad8",
   "metadata": {
    "slideshow": {
     "slide_type": "subslide"
    }
   },
   "source": [
    "<center><img src=\"imagenes/pep-3147-1.png\" alt=\"Actividad inicial\" style=\"width:850px;\"/></center>\n"
   ]
  },
  {
   "cell_type": "markdown",
   "id": "combined-michael",
   "metadata": {
    "slideshow": {
     "slide_type": "slide"
    }
   },
   "source": [
    "# Espacios de nombres\n",
    "\n",
    "- Recordamos que:\n",
    "> Un espacio de nombres **relaciona nombres con objetos**.\n",
    "- En principio podemos pensar en tres espacios de nombres:\n",
    "\t* Locales\n",
    "\t* Globales\n",
    "\t* \\_\\_builtins__\n"
   ]
  },
  {
   "cell_type": "markdown",
   "id": "243be8e4",
   "metadata": {
    "slideshow": {
     "slide_type": "slide"
    }
   },
   "source": [
    "# Espacios de nombres\n",
    "\n",
    "-  Los espacios de nombres **se crean en diferentes momentos y tienen distintos tiempos de vida**.\n",
    "-  El espacio de nombres que contiene los nombres **\\_\\_builtins__** se crea al iniciar el intérprete y nunca se elimina.\n",
    "- El espacio de nombres **global** de un módulo se crea cuando se lee la definición de un módulo y normalmente también dura hasta que el intérprete finaliza. \n",
    "- El espacio de nombres **local** a una función se crea cuando la función es llamada y se elimina cuando la función retorna. \n"
   ]
  },
  {
   "cell_type": "markdown",
   "id": "assumed-newport",
   "metadata": {
    "slideshow": {
     "slide_type": "subslide"
    }
   },
   "source": [
    "# Espacios de nombres y módulos\n",
    "\n",
    "- Cada módulo tiene su propio espacio de nombres.\n",
    "- ¿Cómo podemos saber los nombres definidos en un módulo?"
   ]
  },
  {
   "cell_type": "code",
   "execution_count": null,
   "id": "d5712f54",
   "metadata": {
    "slideshow": {
     "slide_type": "fragment"
    }
   },
   "outputs": [],
   "source": [
    "for elem in dir(random):\n",
    "    print(elem, end=\" - \")"
   ]
  },
  {
   "cell_type": "markdown",
   "id": "bcec74aa",
   "metadata": {
    "slideshow": {
     "slide_type": "fragment"
    }
   },
   "source": [
    "La función **dir** devuelve una lista ordenada de cadenas."
   ]
  },
  {
   "cell_type": "markdown",
   "id": "1c0af493",
   "metadata": {
    "slideshow": {
     "slide_type": "subslide"
    }
   },
   "source": [
    "# Exploremos espacios de nombres\n",
    "\n",
    "- Probemos este código: ¿qué valor se imprime?\n",
    "```python\n",
    "\t#funciones\n",
    "\tvar_x = 10\n",
    "    def print_var_x():\n",
    "        print(var_x)\n",
    "\t\n",
    "\t#uso_funciones\t\n",
    "\timport funciones\n",
    "\n",
    "\tvar_x = 20\n",
    "    funciones.print_var_x()\n",
    "```"
   ]
  },
  {
   "cell_type": "code",
   "execution_count": null,
   "id": "88533db0",
   "metadata": {
    "slideshow": {
     "slide_type": "subslide"
    }
   },
   "outputs": [],
   "source": [
    "import funciones"
   ]
  },
  {
   "cell_type": "code",
   "execution_count": null,
   "id": "52179de3",
   "metadata": {},
   "outputs": [],
   "source": [
    "dir(funciones)"
   ]
  },
  {
   "cell_type": "code",
   "execution_count": null,
   "id": "48e8402e",
   "metadata": {
    "slideshow": {
     "slide_type": "fragment"
    }
   },
   "outputs": [],
   "source": [
    "import builtins\n",
    "dir(builtins)  "
   ]
  },
  {
   "cell_type": "markdown",
   "id": "continued-success",
   "metadata": {
    "slideshow": {
     "slide_type": "subslide"
    }
   },
   "source": [
    "# Volvemos al import\n",
    "\n",
    "* Cuando usamos la sentencia **import** se actualizan los espacios de nombres.\n",
    "\n",
    "```python\n",
    "\timport mi_modulo\n",
    "```\n",
    "\n",
    "* En este caso, todos los recursos definidos dentro de **mi_modulo** serán locales a **mi_modulo**.\n",
    "* Lo que se agrega al espacio de nombres es el nombre del módulo (**mi_modulo**).\n",
    "* Para usarlo debo hacerlo con notación puntual.\n",
    "```python\n",
    "\tmi_modulo.recurso\n",
    "```"
   ]
  },
  {
   "cell_type": "markdown",
   "id": "da1dbcb7",
   "metadata": {
    "slideshow": {
     "slide_type": "subslide"
    }
   },
   "source": [
    "#  ¿Y acá?¿Qué nombre se agrega al espacio de nombres?\n",
    "\n",
    "```python\n",
    "\timport mi_modulo as m\n",
    "    \n",
    "    m.recurso\n",
    "```"
   ]
  },
  {
   "cell_type": "markdown",
   "id": "chicken-hobby",
   "metadata": {
    "slideshow": {
     "slide_type": "subslide"
    }
   },
   "source": [
    "# Importando módulos\n",
    "\n",
    "```python\n",
    "\timport funciones\n",
    "\n",
    "\tfunciones.uno()\n",
    "```\n",
    "- La importación se realización **sólo una vez por sesión del intérprete**.\n",
    "- Veamos sobre el ejemplo anterior."
   ]
  },
  {
   "cell_type": "markdown",
   "id": "revolutionary-involvement",
   "metadata": {
    "slideshow": {
     "slide_type": "fragment"
    }
   },
   "source": [
    "- Si necesito volver a importar podemos usar **reload()** incluido en el **módulo importlib**.\n",
    "\n",
    "```python\n",
    "\timport importlib\n",
    "\timportlib.reload(funciones)\n",
    "```\n",
    "- [+Info en la documentación oficial](https://docs.python.org/3/library/importlib.html#module-importlib)\n"
   ]
  },
  {
   "cell_type": "markdown",
   "id": "constitutional-apollo",
   "metadata": {
    "slideshow": {
     "slide_type": "subslide"
    }
   },
   "source": [
    "# Otra forma de importar\n",
    "\n",
    "```python\n",
    "\tfrom mi_modulo import una_funcion\n",
    "```\n",
    "* Sólo se importa **una_funcion** de **mi_modulo** (no el nombre del módulo).\n",
    "* El único nombre que se agrega al espacio de nombres es **una_funcion**.\n",
    "\n",
    "```python\n",
    "\tfrom mi_modulo import *\n",
    "```\n",
    "\n",
    "* En este caso, **todos los ítems** definidos en **mi_modulo** formarán parte del espacio de nombres actual.\n",
    "* **Esta forma no está recomendada**: podrían existir conflictos de nombres.\n"
   ]
  },
  {
   "cell_type": "markdown",
   "id": "major-trust",
   "metadata": {
    "slideshow": {
     "slide_type": "subslide"
    }
   },
   "source": [
    "### Veamos qué pasa cuando queremos importar un módulo que no existe:"
   ]
  },
  {
   "cell_type": "code",
   "execution_count": null,
   "id": "pointed-provincial",
   "metadata": {
    "slideshow": {
     "slide_type": "fragment"
    }
   },
   "outputs": [],
   "source": [
    "import pp"
   ]
  },
  {
   "cell_type": "markdown",
   "id": "embedded-madness",
   "metadata": {
    "slideshow": {
     "slide_type": "subslide"
    }
   },
   "source": [
    "### ¿Dónde se busca los módulos?\n",
    "\n",
    "- Directorio actual + otros directorios definidos en la variable de ambiente PYTHONPATH"
   ]
  },
  {
   "cell_type": "code",
   "execution_count": null,
   "id": "forward-preservation",
   "metadata": {
    "slideshow": {
     "slide_type": "fragment"
    }
   },
   "outputs": [],
   "source": [
    "import sys\n",
    "sys.path"
   ]
  },
  {
   "cell_type": "markdown",
   "id": "under-palestinian",
   "metadata": {
    "slideshow": {
     "slide_type": "slide"
    }
   },
   "source": [
    "# Biblioteca de módulos estándar\n",
    "- Existe un conjunto de módulos que vienen incluidos con el intérprete.\n",
    "- Para usarlos se los debe importar en forma explícita (usando **sentencia import**).\n",
    "- Ya usamos algunos, ¿cuáles?\n"
   ]
  },
  {
   "cell_type": "markdown",
   "id": "studied-sucking",
   "metadata": {
    "slideshow": {
     "slide_type": "fragment"
    }
   },
   "source": [
    "- random, sys, string"
   ]
  },
  {
   "cell_type": "markdown",
   "id": "renewable-kernel",
   "metadata": {
    "slideshow": {
     "slide_type": "fragment"
    }
   },
   "source": [
    "- Hay muchos otros que nos ofrecen distinta funcionalidad."
   ]
  },
  {
   "cell_type": "code",
   "execution_count": null,
   "id": "global-moscow",
   "metadata": {
    "slideshow": {
     "slide_type": "subslide"
    }
   },
   "outputs": [],
   "source": [
    "import math\n",
    "\n",
    "print(math.gcd(12,16))\n",
    "print(math.sqrt(81))\n",
    "print(math.pi)"
   ]
  },
  {
   "cell_type": "code",
   "execution_count": null,
   "id": "68c821ea",
   "metadata": {
    "slideshow": {
     "slide_type": "subslide"
    }
   },
   "outputs": [],
   "source": [
    "import random\n",
    "\n",
    "amigos = [\"Try\", \"Kalita\",\"Kaze\", \"Khizha\"]\n",
    "\n",
    "print(random.choice(amigos))"
   ]
  },
  {
   "cell_type": "markdown",
   "id": "differential-merchandise",
   "metadata": {
    "slideshow": {
     "slide_type": "subslide"
    }
   },
   "source": [
    "\n",
    "# El módulo collections\n",
    "\n",
    "\n",
    "- Define tipos de datos alternativos a los predefinidos dict, list, set, y tuple.\n",
    "- **Counter**: es una **colección desordenada de pares claves-valor**, donde las claves son los elementos de la colección y los valores son la cantidad de ocurrencias de los mismos."
   ]
  },
  {
   "cell_type": "code",
   "execution_count": null,
   "id": "southern-retrieval",
   "metadata": {
    "slideshow": {
     "slide_type": "fragment"
    }
   },
   "outputs": [],
   "source": [
    "from collections import Counter\n",
    "\n",
    "cnt = Counter(['red', 'blue', 'red', 'green', 'blue', 'blue'])\n",
    "#print(cnt)"
   ]
  },
  {
   "cell_type": "code",
   "execution_count": null,
   "id": "fantastic-bradford",
   "metadata": {
    "slideshow": {
     "slide_type": "fragment"
    }
   },
   "outputs": [],
   "source": [
    "cant_letras = Counter('abracadabra')\n",
    "#cant_letras\n",
    "print(cant_letras.most_common(2))"
   ]
  },
  {
   "cell_type": "markdown",
   "id": "accompanied-registrar",
   "metadata": {
    "slideshow": {
     "slide_type": "subslide"
    }
   },
   "source": [
    "# Para probar luego\n",
    "\n",
    "- El módulo **deque** (“double-ended queue”): permite implementar pilas y colas."
   ]
  },
  {
   "cell_type": "code",
   "execution_count": null,
   "id": "innocent-district",
   "metadata": {
    "slideshow": {
     "slide_type": "fragment"
    }
   },
   "outputs": [],
   "source": [
    "from collections import deque\n",
    "\n",
    "d = deque('abcd')\n",
    "# agrega al final\n",
    "d.append(\"final\")   \n",
    "# agrega al principio\n",
    "d.appendleft(\"ppio\")\n",
    "# eliminar último\n",
    "elem = d.pop()\n",
    "# elimina primero\n",
    "elem1=d.popleft()   \n",
    "d"
   ]
  },
  {
   "cell_type": "markdown",
   "id": "convenient-trick",
   "metadata": {
    "slideshow": {
     "slide_type": "subslide"
    }
   },
   "source": [
    "# El módulo sys\n",
    "\n",
    "\n",
    "* Entre otras cosas, define:\n",
    "\n",
    "\t* **exit([arg]):** sale del programa actual;\n",
    "\t* **path:** las rutas donde buscar los módulos a cargar;\n",
    "\t* **platform:** contiene información sobre la plataforma.\n",
    "\n",
    "----"
   ]
  },
  {
   "cell_type": "code",
   "execution_count": null,
   "id": "electoral-daily",
   "metadata": {
    "slideshow": {
     "slide_type": "fragment"
    }
   },
   "outputs": [],
   "source": [
    "import sys\n",
    "sys.platform"
   ]
  },
  {
   "cell_type": "markdown",
   "id": "parallel-julian",
   "metadata": {
    "slideshow": {
     "slide_type": "subslide"
    }
   },
   "source": [
    "#  Los nombres de los módulos\n",
    "\n",
    "- Es posible acceder al  nombre de un módulo a través de **\\_\\_name__**\n"
   ]
  },
  {
   "cell_type": "code",
   "execution_count": null,
   "id": "purple-mouse",
   "metadata": {
    "slideshow": {
     "slide_type": "fragment"
    }
   },
   "outputs": [],
   "source": [
    "print(__name__)"
   ]
  },
  {
   "cell_type": "markdown",
   "id": "configured-seven",
   "metadata": {
    "slideshow": {
     "slide_type": "subslide"
    }
   },
   "source": [
    "# Tarea\n",
    "\n",
    "- Averiguar cuándo un módulo se denomina **\\_\\_main__**,"
   ]
  },
  {
   "cell_type": "markdown",
   "id": "86d542bf",
   "metadata": {
    "slideshow": {
     "slide_type": "subslide"
    }
   },
   "source": [
    "# Paquetes\n",
    "Veamos el ejemplo de la [documentación oficial de paquetes](https://docs.python.org/3/tutorial/modules.html#packages)\n",
    "<center>\n",
    "<img src=\"imagenes/paquetes.png\" alt=\"Paquetes en Python\" style=\"width:600 px;\"/>\n",
    "</center>"
   ]
  },
  {
   "cell_type": "markdown",
   "id": "b893a24b",
   "metadata": {
    "slideshow": {
     "slide_type": "fragment"
    }
   },
   "source": [
    "```python\n",
    "\timport sound.effects.echo\n",
    "\tfrom sound.effects import echo\n",
    "```"
   ]
  },
  {
   "cell_type": "markdown",
   "id": "02f4b919",
   "metadata": {
    "slideshow": {
     "slide_type": "subslide"
    }
   },
   "source": [
    "### ¿Qué contiene el archivo \\_\\_init__.py?"
   ]
  },
  {
   "cell_type": "markdown",
   "id": "3dc4915b",
   "metadata": {
    "slideshow": {
     "slide_type": "subslide"
    }
   },
   "source": [
    "# ¿Qué pasa si tenemos la siguiente sentencia?\n",
    "\n",
    "\n",
    "```python\n",
    "\tfrom sound import *\n",
    "```\n"
   ]
  },
  {
   "cell_type": "markdown",
   "id": "de3b6c96",
   "metadata": {
    "slideshow": {
     "slide_type": "subslide"
    }
   },
   "source": [
    "- **\\_\\_all__**: es una variable que contiene una lista con los nombres de los módulos que deberían poder importarse  cuando se encuentra la sentencia **from package import \\***.\n",
    "\n",
    "```python\n",
    "\t#Por ejemplo, en sound/effects/__init__.py\n",
    "\t\n",
    "\t__all__ = [\"echo\", \"surround\", \"reverse\"]\n",
    "```\n",
    "\n",
    "- Si **\\_\\_all__** no está definida,  **from sound.effects import \\*** no importa los submódulos dentro del paquete **sound.effects** al espacio de nombres."
   ]
  },
  {
   "cell_type": "markdown",
   "id": "4fe4c4dc",
   "metadata": {
    "slideshow": {
     "slide_type": "subslide"
    }
   },
   "source": [
    "- Un artículo para leer luego: [Absolute vs Relative Imports in Python](https://realpython.com/absolute-vs-relative-python-imports/)."
   ]
  },
  {
   "cell_type": "markdown",
   "id": "italic-theater",
   "metadata": {
    "slideshow": {
     "slide_type": "slide"
    }
   },
   "source": [
    "<center>\n",
    "<img src=\"imagenes/portada_video.png\" alt=\"nos vemos el martes\" style=\"width:1050px;\"/>\n",
    "</center>"
   ]
  }
 ],
 "metadata": {
  "celltoolbar": "Slideshow",
  "kernelspec": {
   "display_name": "Python 3 (ipykernel)",
   "language": "python",
   "name": "python3"
  },
  "language_info": {
   "codemirror_mode": {
    "name": "ipython",
    "version": 3
   },
   "file_extension": ".py",
   "mimetype": "text/x-python",
   "name": "python",
   "nbconvert_exporter": "python",
   "pygments_lexer": "ipython3",
   "version": "3.11.2"
  }
 },
 "nbformat": 4,
 "nbformat_minor": 5
}
