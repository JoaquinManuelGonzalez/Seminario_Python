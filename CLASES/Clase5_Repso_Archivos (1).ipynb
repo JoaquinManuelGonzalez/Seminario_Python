{
 "cells": [
  {
   "cell_type": "markdown",
   "id": "younger-ready",
   "metadata": {
    "slideshow": {
     "slide_type": "slide"
    }
   },
   "source": [
    "### Seminario de Lenguajes - Python\n",
    "## Cursada 2023\n",
    "### Clase 5: repaso de archivos"
   ]
  },
  {
   "cell_type": "markdown",
   "id": "0c372c5b",
   "metadata": {
    "slideshow": {
     "slide_type": "slide"
    }
   },
   "source": [
    "# Repasamos archivos\n"
   ]
  },
  {
   "cell_type": "code",
   "execution_count": null,
   "id": "169a4e87",
   "metadata": {
    "slideshow": {
     "slide_type": "subslide"
    }
   },
   "outputs": [],
   "source": [
    "archivo = open('datos.txt', 'x')"
   ]
  },
  {
   "cell_type": "markdown",
   "id": "371e1421",
   "metadata": {
    "slideshow": {
     "slide_type": "fragment"
    }
   },
   "source": [
    "- ¿Cómo se abre el archivo? ¿Existen otras formas? ¿Posibles errores?"
   ]
  },
  {
   "cell_type": "markdown",
   "id": "da4b4ef8",
   "metadata": {
    "slideshow": {
     "slide_type": "subslide"
    }
   },
   "source": [
    "# Archivos de texto vs. binarios"
   ]
  },
  {
   "cell_type": "code",
   "execution_count": null,
   "id": "ff52c1a0",
   "metadata": {
    "slideshow": {
     "slide_type": "fragment"
    }
   },
   "outputs": [],
   "source": [
    "with open(\"ejemplos/clase5/muchachos.txt\",\"rb\") as archivo:\n",
    "    texto = archivo.read()"
   ]
  },
  {
   "cell_type": "code",
   "execution_count": null,
   "id": "4e4b06d1",
   "metadata": {
    "slideshow": {
     "slide_type": "fragment"
    }
   },
   "outputs": [],
   "source": [
    "print(texto)"
   ]
  },
  {
   "cell_type": "code",
   "execution_count": null,
   "id": "d3ecb5c9",
   "metadata": {
    "slideshow": {
     "slide_type": "subslide"
    }
   },
   "outputs": [],
   "source": [
    "type(texto)"
   ]
  },
  {
   "cell_type": "markdown",
   "id": "e36b1572",
   "metadata": {
    "slideshow": {
     "slide_type": "fragment"
    }
   },
   "source": [
    "- El tipo **bytes** es una secuencia inmutable de bytes. \n",
    "- Solo admiten caracteres ASCII. "
   ]
  },
  {
   "cell_type": "code",
   "execution_count": null,
   "id": "39beefc4",
   "metadata": {
    "slideshow": {
     "slide_type": "subslide"
    }
   },
   "outputs": [],
   "source": [
    "print(texto.decode('UTF-8')[:228])"
   ]
  },
  {
   "cell_type": "markdown",
   "id": "79bbc332",
   "metadata": {
    "slideshow": {
     "slide_type": "subslide"
    }
   },
   "source": [
    "- El tipo **str** de Python utiliza el estándar [Unicode](https://home.unicode.org/) para representar caracteres.\n",
    "- Generalmente la codificación predeterminada es **UTF-8**.\n",
    "    -  UTF significa **Unicode Transformation Format**, y el **8** significa que se utilizan valores de 8 bits en la codificación.\n",
    "    "
   ]
  },
  {
   "cell_type": "code",
   "execution_count": null,
   "id": "e6062ec6",
   "metadata": {
    "slideshow": {
     "slide_type": "subslide"
    }
   },
   "outputs": [],
   "source": [
    "with open(\"ejemplos/clase5/rosa_azul.jpg\",\"rb\") as archi_rosa:\n",
    "    datos = archi_rosa.read()"
   ]
  },
  {
   "cell_type": "code",
   "execution_count": null,
   "id": "075adafd",
   "metadata": {
    "slideshow": {
     "slide_type": "fragment"
    }
   },
   "outputs": [],
   "source": [
    "datos"
   ]
  },
  {
   "cell_type": "markdown",
   "id": "047d229a",
   "metadata": {
    "slideshow": {
     "slide_type": "subslide"
    }
   },
   "source": [
    "## <center>  Luego veremos cómo procesamos este tipo de archivos utilizando librerías específicas </center>"
   ]
  },
  {
   "cell_type": "markdown",
   "id": "a6ec2770",
   "metadata": {
    "slideshow": {
     "slide_type": "slide"
    }
   },
   "source": [
    "# JSON vs. CSV"
   ]
  },
  {
   "cell_type": "markdown",
   "id": "bb130477",
   "metadata": {
    "slideshow": {
     "slide_type": "fragment"
    }
   },
   "source": [
    "- ¿Con qué tipo de datos trabajan? (¿texto o binario?)"
   ]
  },
  {
   "cell_type": "markdown",
   "id": "83d4a606",
   "metadata": {
    "slideshow": {
     "slide_type": "fragment"
    }
   },
   "source": [
    "- ¿En qué casos usamos archivos en formato json?\n"
   ]
  },
  {
   "cell_type": "markdown",
   "id": "6ba77433",
   "metadata": {
    "slideshow": {
     "slide_type": "fragment"
    }
   },
   "source": [
    "- ¿En qué casos usamos archivos en formato csv?\n"
   ]
  },
  {
   "cell_type": "code",
   "execution_count": null,
   "id": "81084962",
   "metadata": {
    "slideshow": {
     "slide_type": "subslide"
    }
   },
   "outputs": [],
   "source": [
    "import json\n",
    "datos = [\n",
    "    {\"nombre\": \"Bitcoin\", \"sigla\": \"BTC\", \"cotización\": 28000},\n",
    "    {\"nombre\": \"Ethereum\", \"sigla\": \"ETH\", \"cotización\": 1800},\n",
    "    {\"nombre\": \"Cardano\", \"sigla\": \"ADA\", \"cotización\": 0.38}\n",
    "    ]"
   ]
  },
  {
   "cell_type": "code",
   "execution_count": null,
   "id": "2bc38935",
   "metadata": {
    "slideshow": {
     "slide_type": "fragment"
    }
   },
   "outputs": [],
   "source": [
    "with open(\"criptomonedas.json\", \"w\") as archivo:\n",
    "    json.dump(datos, archivo)"
   ]
  },
  {
   "cell_type": "code",
   "execution_count": null,
   "id": "800f42a6",
   "metadata": {
    "slideshow": {
     "slide_type": "subslide"
    }
   },
   "outputs": [],
   "source": [
    "with open(\"criptomonedas.json\", \"r\") as archivo:\n",
    "    datos = json.load(archivo)"
   ]
  },
  {
   "cell_type": "code",
   "execution_count": null,
   "id": "9f702e89",
   "metadata": {
    "slideshow": {
     "slide_type": "fragment"
    }
   },
   "outputs": [],
   "source": [
    "datos_a_mostrar = json.dumps(datos, indent=4)\n",
    "print(datos_a_mostrar)"
   ]
  },
  {
   "cell_type": "code",
   "execution_count": null,
   "id": "9fd3eccf",
   "metadata": {
    "slideshow": {
     "slide_type": "subslide"
    }
   },
   "outputs": [],
   "source": [
    "import csv\n",
    "\n",
    "with open(\"criptomonedas.json\", \"r\") as archivo_json:\n",
    "    datos = json.load(archivo_json)\n",
    "    \n",
    "datos"
   ]
  },
  {
   "cell_type": "code",
   "execution_count": null,
   "id": "6e5f0bd5",
   "metadata": {
    "slideshow": {
     "slide_type": "subslide"
    }
   },
   "outputs": [],
   "source": [
    "with open(\"criptomonedas.csv\", \"w\") as archivo_csv:\n",
    "    writer = csv.writer(archivo_csv)\n",
    "    writer.writerow([\"Criptomoneda\", \"Sigla\", \"Cotización (enU$d)\"])\n",
    "    for moneda in datos:\n",
    "        writer.writerow([moneda[\"nombre\"], moneda[\"sigla\"], moneda[\"cotización\"]])\n"
   ]
  },
  {
   "cell_type": "code",
   "execution_count": null,
   "id": "b380d976",
   "metadata": {
    "slideshow": {
     "slide_type": "fragment"
    }
   },
   "outputs": [],
   "source": [
    "with open(\"criptomonedas.csv\", \"r\") as archivo_csv:\n",
    "    csv_reader = csv.reader(archivo_csv)\n",
    "    encabezado, datos = next(csv_reader), list(csv_reader)"
   ]
  },
  {
   "cell_type": "code",
   "execution_count": null,
   "id": "fdf9a4d6",
   "metadata": {
    "slideshow": {
     "slide_type": "fragment"
    }
   },
   "outputs": [],
   "source": [
    "for moneda in datos:\n",
    "    print(moneda)\n"
   ]
  },
  {
   "cell_type": "markdown",
   "id": "a1cc617c",
   "metadata": {
    "slideshow": {
     "slide_type": "slide"
    }
   },
   "source": [
    "# Rutas "
   ]
  },
  {
   "cell_type": "code",
   "execution_count": null,
   "id": "fe54e22e",
   "metadata": {
    "slideshow": {
     "slide_type": "fragment"
    }
   },
   "outputs": [],
   "source": [
    "import os\n",
    "os.getcwd()"
   ]
  },
  {
   "cell_type": "code",
   "execution_count": null,
   "id": "eb30fa2c",
   "metadata": {
    "slideshow": {
     "slide_type": "fragment"
    }
   },
   "outputs": [],
   "source": [
    "ruta = os.path.dirname(os.path.realpath(\".\"))\n",
    "ruta"
   ]
  },
  {
   "cell_type": "code",
   "execution_count": null,
   "id": "77500fc3",
   "metadata": {
    "slideshow": {
     "slide_type": "fragment"
    }
   },
   "outputs": [],
   "source": [
    "ruta_completa = os.path.join(os.getcwd(), \"ejemplos\")\n",
    "ruta_completa"
   ]
  },
  {
   "cell_type": "markdown",
   "id": "fecda3e8",
   "metadata": {
    "slideshow": {
     "slide_type": "slide"
    }
   },
   "source": [
    "# Exploremos el siguiente [dataset de películas](https://www.kaggle.com/datasets/disham993/9000-movies-dataset)\n"
   ]
  },
  {
   "cell_type": "code",
   "execution_count": null,
   "id": "877d5b4b",
   "metadata": {},
   "outputs": [],
   "source": [
    "ruta_completa = os.path.join(os.getcwd(), \"ejemplos\", \"clase5\", \"mymoviedb.csv\")\n",
    "\n",
    "with open(ruta_completa, \"r\") as archivo_csv:\n",
    "    csv_reader = csv.reader(archivo_csv)\n",
    "    encabezado, datos = next(csv_reader), list(csv_reader)"
   ]
  },
  {
   "cell_type": "code",
   "execution_count": null,
   "id": "e9e80245",
   "metadata": {
    "slideshow": {
     "slide_type": "fragment"
    }
   },
   "outputs": [],
   "source": [
    "encabezado"
   ]
  },
  {
   "cell_type": "code",
   "execution_count": null,
   "id": "a58a0262",
   "metadata": {
    "slideshow": {
     "slide_type": "subslide"
    }
   },
   "outputs": [],
   "source": [
    "datos[:1]"
   ]
  },
  {
   "cell_type": "markdown",
   "id": "3a65d51c",
   "metadata": {
    "slideshow": {
     "slide_type": "subslide"
    }
   },
   "source": [
    "# Desafío\n",
    "\n",
    "> Queremos ver qué películas tienen un promedio de popularidad mayor a 9\n",
    "\n"
   ]
  },
  {
   "cell_type": "markdown",
   "id": "a0ad00bf",
   "metadata": {
    "slideshow": {
     "slide_type": "fragment"
    }
   },
   "source": [
    "Deberíamos trabajar con la columna Vote_Average (columna 5)"
   ]
  },
  {
   "cell_type": "code",
   "execution_count": null,
   "id": "63eeb922",
   "metadata": {
    "slideshow": {
     "slide_type": "subslide"
    }
   },
   "outputs": [],
   "source": [
    "pelis = filter(lambda x: float(x[5])>9, datos)"
   ]
  },
  {
   "cell_type": "code",
   "execution_count": null,
   "id": "f2313c91",
   "metadata": {
    "slideshow": {
     "slide_type": "fragment"
    }
   },
   "outputs": [],
   "source": [
    "for peli in pelis:\n",
    "    print(peli[1])"
   ]
  },
  {
   "cell_type": "markdown",
   "id": "3761d23c",
   "metadata": {
    "slideshow": {
     "slide_type": "fragment"
    }
   },
   "source": [
    "## <center> Recordemos que el csv contiene texto </center> "
   ]
  },
  {
   "cell_type": "markdown",
   "id": "834b1b08",
   "metadata": {
    "slideshow": {
     "slide_type": "subslide"
    }
   },
   "source": [
    "# Desafío\n",
    "\n",
    "> ¿Cuáles son los idiomas de las películas del dataset?"
   ]
  },
  {
   "cell_type": "code",
   "execution_count": null,
   "id": "84858b87",
   "metadata": {
    "slideshow": {
     "slide_type": "fragment"
    }
   },
   "outputs": [],
   "source": [
    "idiomas = map(lambda x: x[6], datos)\n",
    "print(list(idiomas))"
   ]
  },
  {
   "cell_type": "markdown",
   "id": "3396db21",
   "metadata": {
    "slideshow": {
     "slide_type": "subslide"
    }
   },
   "source": [
    "## ¿Nos interesa que se repita?"
   ]
  },
  {
   "cell_type": "code",
   "execution_count": null,
   "id": "2fdc88bb",
   "metadata": {
    "slideshow": {
     "slide_type": "fragment"
    }
   },
   "outputs": [],
   "source": [
    "idiomas = set(map(lambda x: x[6], datos))"
   ]
  },
  {
   "cell_type": "code",
   "execution_count": null,
   "id": "65f85345",
   "metadata": {
    "slideshow": {
     "slide_type": "fragment"
    }
   },
   "outputs": [],
   "source": [
    "print(idiomas)"
   ]
  },
  {
   "cell_type": "markdown",
   "id": "8590ee11",
   "metadata": {
    "slideshow": {
     "slide_type": "fragment"
    }
   },
   "source": [
    "## <center>Notamos que hay datos que no son correctos. </center> "
   ]
  },
  {
   "cell_type": "markdown",
   "id": "6f4930aa",
   "metadata": {
    "slideshow": {
     "slide_type": "slide"
    }
   },
   "source": [
    "# <center> Más adelante veremos cómo hay otras formas de procesar estos datasets</center>"
   ]
  },
  {
   "cell_type": "markdown",
   "id": "8e7f61ff",
   "metadata": {
    "slideshow": {
     "slide_type": "slide"
    }
   },
   "source": [
    "# Accedemos al poster de las Spiderman"
   ]
  },
  {
   "cell_type": "code",
   "execution_count": null,
   "id": "90c19961",
   "metadata": {
    "slideshow": {
     "slide_type": "fragment"
    }
   },
   "outputs": [],
   "source": [
    "datos[:1]"
   ]
  },
  {
   "cell_type": "code",
   "execution_count": null,
   "id": "354b7555",
   "metadata": {
    "slideshow": {
     "slide_type": "fragment"
    }
   },
   "outputs": [],
   "source": [
    "spiderman = datos[:1][0]\n",
    "poster_spiderman = spiderman[8]\n",
    "poster_spiderman"
   ]
  },
  {
   "cell_type": "code",
   "execution_count": null,
   "id": "0925af6b",
   "metadata": {
    "slideshow": {
     "slide_type": "subslide"
    }
   },
   "outputs": [],
   "source": [
    "import requests\n",
    "\n",
    "imagen = requests.get(poster_spiderman)\n",
    "with open(\"ejemplos/clase5/poster.jpg\", 'wb') as f:\n",
    "    f.write(imagen.content)"
   ]
  }
 ],
 "metadata": {
  "celltoolbar": "Slideshow",
  "kernelspec": {
   "display_name": "Python 3 (ipykernel)",
   "language": "python",
   "name": "python3"
  },
  "language_info": {
   "codemirror_mode": {
    "name": "ipython",
    "version": 3
   },
   "file_extension": ".py",
   "mimetype": "text/x-python",
   "name": "python",
   "nbconvert_exporter": "python",
   "pygments_lexer": "ipython3",
   "version": "3.11.3"
  }
 },
 "nbformat": 4,
 "nbformat_minor": 5
}
